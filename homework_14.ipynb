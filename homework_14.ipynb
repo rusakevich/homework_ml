{
 "cells": [
  {
   "cell_type": "code",
   "execution_count": 1,
   "metadata": {},
   "outputs": [],
   "source": [
    "import pandas as pd\n",
    "import numpy as np\n",
    "import warnings\n",
    "warnings.filterwarnings('ignore')\n",
    "from lightfm import LightFM, data, cross_validation\n",
    "from lightfm.evaluation import precision_at_k, auc_score\n",
    "%matplotlib inline"
   ]
  },
  {
   "cell_type": "markdown",
   "metadata": {},
   "source": [
    "### Считывание данных рейтингов и описаний книг"
   ]
  },
  {
   "cell_type": "code",
   "execution_count": 2,
   "metadata": {
    "scrolled": true
   },
   "outputs": [
    {
     "data": {
      "text/html": [
       "<div>\n",
       "<style scoped>\n",
       "    .dataframe tbody tr th:only-of-type {\n",
       "        vertical-align: middle;\n",
       "    }\n",
       "\n",
       "    .dataframe tbody tr th {\n",
       "        vertical-align: top;\n",
       "    }\n",
       "\n",
       "    .dataframe thead th {\n",
       "        text-align: right;\n",
       "    }\n",
       "</style>\n",
       "<table border=\"1\" class=\"dataframe\">\n",
       "  <thead>\n",
       "    <tr style=\"text-align: right;\">\n",
       "      <th></th>\n",
       "      <th>user_id</th>\n",
       "      <th>item_id</th>\n",
       "      <th>weight</th>\n",
       "    </tr>\n",
       "  </thead>\n",
       "  <tbody>\n",
       "    <tr>\n",
       "      <th>0</th>\n",
       "      <td>276725</td>\n",
       "      <td>034545104X</td>\n",
       "      <td>0</td>\n",
       "    </tr>\n",
       "    <tr>\n",
       "      <th>1</th>\n",
       "      <td>276726</td>\n",
       "      <td>0155061224</td>\n",
       "      <td>5</td>\n",
       "    </tr>\n",
       "    <tr>\n",
       "      <th>2</th>\n",
       "      <td>276727</td>\n",
       "      <td>0446520802</td>\n",
       "      <td>0</td>\n",
       "    </tr>\n",
       "    <tr>\n",
       "      <th>3</th>\n",
       "      <td>276729</td>\n",
       "      <td>052165615X</td>\n",
       "      <td>3</td>\n",
       "    </tr>\n",
       "    <tr>\n",
       "      <th>4</th>\n",
       "      <td>276729</td>\n",
       "      <td>0521795028</td>\n",
       "      <td>6</td>\n",
       "    </tr>\n",
       "    <tr>\n",
       "      <th>5</th>\n",
       "      <td>276733</td>\n",
       "      <td>2080674722</td>\n",
       "      <td>0</td>\n",
       "    </tr>\n",
       "    <tr>\n",
       "      <th>6</th>\n",
       "      <td>276736</td>\n",
       "      <td>3257224281</td>\n",
       "      <td>8</td>\n",
       "    </tr>\n",
       "    <tr>\n",
       "      <th>7</th>\n",
       "      <td>276737</td>\n",
       "      <td>0600570967</td>\n",
       "      <td>6</td>\n",
       "    </tr>\n",
       "    <tr>\n",
       "      <th>8</th>\n",
       "      <td>276744</td>\n",
       "      <td>038550120X</td>\n",
       "      <td>7</td>\n",
       "    </tr>\n",
       "    <tr>\n",
       "      <th>9</th>\n",
       "      <td>276745</td>\n",
       "      <td>342310538</td>\n",
       "      <td>10</td>\n",
       "    </tr>\n",
       "    <tr>\n",
       "      <th>10</th>\n",
       "      <td>276746</td>\n",
       "      <td>0425115801</td>\n",
       "      <td>0</td>\n",
       "    </tr>\n",
       "    <tr>\n",
       "      <th>11</th>\n",
       "      <td>276746</td>\n",
       "      <td>0449006522</td>\n",
       "      <td>0</td>\n",
       "    </tr>\n",
       "    <tr>\n",
       "      <th>12</th>\n",
       "      <td>276746</td>\n",
       "      <td>0553561618</td>\n",
       "      <td>0</td>\n",
       "    </tr>\n",
       "    <tr>\n",
       "      <th>13</th>\n",
       "      <td>276746</td>\n",
       "      <td>055356451X</td>\n",
       "      <td>0</td>\n",
       "    </tr>\n",
       "    <tr>\n",
       "      <th>14</th>\n",
       "      <td>276746</td>\n",
       "      <td>0786013990</td>\n",
       "      <td>0</td>\n",
       "    </tr>\n",
       "    <tr>\n",
       "      <th>15</th>\n",
       "      <td>276746</td>\n",
       "      <td>0786014512</td>\n",
       "      <td>0</td>\n",
       "    </tr>\n",
       "    <tr>\n",
       "      <th>16</th>\n",
       "      <td>276747</td>\n",
       "      <td>0060517794</td>\n",
       "      <td>9</td>\n",
       "    </tr>\n",
       "    <tr>\n",
       "      <th>17</th>\n",
       "      <td>276747</td>\n",
       "      <td>0451192001</td>\n",
       "      <td>0</td>\n",
       "    </tr>\n",
       "    <tr>\n",
       "      <th>18</th>\n",
       "      <td>276747</td>\n",
       "      <td>0609801279</td>\n",
       "      <td>0</td>\n",
       "    </tr>\n",
       "    <tr>\n",
       "      <th>19</th>\n",
       "      <td>276747</td>\n",
       "      <td>0671537458</td>\n",
       "      <td>9</td>\n",
       "    </tr>\n",
       "    <tr>\n",
       "      <th>20</th>\n",
       "      <td>276747</td>\n",
       "      <td>0679776818</td>\n",
       "      <td>8</td>\n",
       "    </tr>\n",
       "    <tr>\n",
       "      <th>21</th>\n",
       "      <td>276747</td>\n",
       "      <td>0943066433</td>\n",
       "      <td>7</td>\n",
       "    </tr>\n",
       "    <tr>\n",
       "      <th>22</th>\n",
       "      <td>276747</td>\n",
       "      <td>1570231028</td>\n",
       "      <td>0</td>\n",
       "    </tr>\n",
       "    <tr>\n",
       "      <th>23</th>\n",
       "      <td>276747</td>\n",
       "      <td>1885408226</td>\n",
       "      <td>7</td>\n",
       "    </tr>\n",
       "    <tr>\n",
       "      <th>24</th>\n",
       "      <td>276748</td>\n",
       "      <td>0747558167</td>\n",
       "      <td>6</td>\n",
       "    </tr>\n",
       "  </tbody>\n",
       "</table>\n",
       "</div>"
      ],
      "text/plain": [
       "    user_id     item_id  weight\n",
       "0    276725  034545104X       0\n",
       "1    276726  0155061224       5\n",
       "2    276727  0446520802       0\n",
       "3    276729  052165615X       3\n",
       "4    276729  0521795028       6\n",
       "5    276733  2080674722       0\n",
       "6    276736  3257224281       8\n",
       "7    276737  0600570967       6\n",
       "8    276744  038550120X       7\n",
       "9    276745   342310538      10\n",
       "10   276746  0425115801       0\n",
       "11   276746  0449006522       0\n",
       "12   276746  0553561618       0\n",
       "13   276746  055356451X       0\n",
       "14   276746  0786013990       0\n",
       "15   276746  0786014512       0\n",
       "16   276747  0060517794       9\n",
       "17   276747  0451192001       0\n",
       "18   276747  0609801279       0\n",
       "19   276747  0671537458       9\n",
       "20   276747  0679776818       8\n",
       "21   276747  0943066433       7\n",
       "22   276747  1570231028       0\n",
       "23   276747  1885408226       7\n",
       "24   276748  0747558167       6"
      ]
     },
     "execution_count": 2,
     "metadata": {},
     "output_type": "execute_result"
    }
   ],
   "source": [
    "ratings = pd.read_csv(\"C:/Users/v_rusakevich/Documents/аметист/recom/BX-Book-Ratings.csv\", sep=';', encoding = \"ISO-8859-1\")\n",
    "ratings.rename(columns = {'User-ID':'user_id', 'ISBN': 'item_id', 'Book-Rating':'weight'}, inplace=True)\n",
    "ratings.head(25)"
   ]
  },
  {
   "cell_type": "code",
   "execution_count": 3,
   "metadata": {
    "scrolled": true
   },
   "outputs": [
    {
     "name": "stderr",
     "output_type": "stream",
     "text": [
      "b'Skipping line 6452: expected 8 fields, saw 9\\nSkipping line 43667: expected 8 fields, saw 10\\nSkipping line 51751: expected 8 fields, saw 9\\n'\n",
      "b'Skipping line 92038: expected 8 fields, saw 9\\nSkipping line 104319: expected 8 fields, saw 9\\nSkipping line 121768: expected 8 fields, saw 9\\n'\n",
      "b'Skipping line 144058: expected 8 fields, saw 9\\nSkipping line 150789: expected 8 fields, saw 9\\nSkipping line 157128: expected 8 fields, saw 9\\nSkipping line 180189: expected 8 fields, saw 9\\nSkipping line 185738: expected 8 fields, saw 9\\n'\n",
      "b'Skipping line 209388: expected 8 fields, saw 9\\nSkipping line 220626: expected 8 fields, saw 9\\nSkipping line 227933: expected 8 fields, saw 11\\nSkipping line 228957: expected 8 fields, saw 10\\nSkipping line 245933: expected 8 fields, saw 9\\nSkipping line 251296: expected 8 fields, saw 9\\nSkipping line 259941: expected 8 fields, saw 9\\nSkipping line 261529: expected 8 fields, saw 9\\n'\n"
     ]
    },
    {
     "data": {
      "text/html": [
       "<div>\n",
       "<style scoped>\n",
       "    .dataframe tbody tr th:only-of-type {\n",
       "        vertical-align: middle;\n",
       "    }\n",
       "\n",
       "    .dataframe tbody tr th {\n",
       "        vertical-align: top;\n",
       "    }\n",
       "\n",
       "    .dataframe thead th {\n",
       "        text-align: right;\n",
       "    }\n",
       "</style>\n",
       "<table border=\"1\" class=\"dataframe\">\n",
       "  <thead>\n",
       "    <tr style=\"text-align: right;\">\n",
       "      <th></th>\n",
       "      <th>ISBN</th>\n",
       "      <th>Book-Title</th>\n",
       "      <th>Book-Author</th>\n",
       "      <th>Year-Of-Publication</th>\n",
       "      <th>Publisher</th>\n",
       "      <th>Image-URL-S</th>\n",
       "      <th>Image-URL-M</th>\n",
       "      <th>Image-URL-L</th>\n",
       "    </tr>\n",
       "  </thead>\n",
       "  <tbody>\n",
       "    <tr>\n",
       "      <th>0</th>\n",
       "      <td>0195153448</td>\n",
       "      <td>Classical Mythology</td>\n",
       "      <td>Mark P. O. Morford</td>\n",
       "      <td>2002</td>\n",
       "      <td>Oxford University Press</td>\n",
       "      <td>http://images.amazon.com/images/P/0195153448.0...</td>\n",
       "      <td>http://images.amazon.com/images/P/0195153448.0...</td>\n",
       "      <td>http://images.amazon.com/images/P/0195153448.0...</td>\n",
       "    </tr>\n",
       "    <tr>\n",
       "      <th>1</th>\n",
       "      <td>0002005018</td>\n",
       "      <td>Clara Callan</td>\n",
       "      <td>Richard Bruce Wright</td>\n",
       "      <td>2001</td>\n",
       "      <td>HarperFlamingo Canada</td>\n",
       "      <td>http://images.amazon.com/images/P/0002005018.0...</td>\n",
       "      <td>http://images.amazon.com/images/P/0002005018.0...</td>\n",
       "      <td>http://images.amazon.com/images/P/0002005018.0...</td>\n",
       "    </tr>\n",
       "    <tr>\n",
       "      <th>2</th>\n",
       "      <td>0060973129</td>\n",
       "      <td>Decision in Normandy</td>\n",
       "      <td>Carlo D'Este</td>\n",
       "      <td>1991</td>\n",
       "      <td>HarperPerennial</td>\n",
       "      <td>http://images.amazon.com/images/P/0060973129.0...</td>\n",
       "      <td>http://images.amazon.com/images/P/0060973129.0...</td>\n",
       "      <td>http://images.amazon.com/images/P/0060973129.0...</td>\n",
       "    </tr>\n",
       "    <tr>\n",
       "      <th>3</th>\n",
       "      <td>0374157065</td>\n",
       "      <td>Flu: The Story of the Great Influenza Pandemic...</td>\n",
       "      <td>Gina Bari Kolata</td>\n",
       "      <td>1999</td>\n",
       "      <td>Farrar Straus Giroux</td>\n",
       "      <td>http://images.amazon.com/images/P/0374157065.0...</td>\n",
       "      <td>http://images.amazon.com/images/P/0374157065.0...</td>\n",
       "      <td>http://images.amazon.com/images/P/0374157065.0...</td>\n",
       "    </tr>\n",
       "    <tr>\n",
       "      <th>4</th>\n",
       "      <td>0393045218</td>\n",
       "      <td>The Mummies of Urumchi</td>\n",
       "      <td>E. J. W. Barber</td>\n",
       "      <td>1999</td>\n",
       "      <td>W. W. Norton &amp;amp; Company</td>\n",
       "      <td>http://images.amazon.com/images/P/0393045218.0...</td>\n",
       "      <td>http://images.amazon.com/images/P/0393045218.0...</td>\n",
       "      <td>http://images.amazon.com/images/P/0393045218.0...</td>\n",
       "    </tr>\n",
       "    <tr>\n",
       "      <th>5</th>\n",
       "      <td>0399135782</td>\n",
       "      <td>The Kitchen God's Wife</td>\n",
       "      <td>Amy Tan</td>\n",
       "      <td>1991</td>\n",
       "      <td>Putnam Pub Group</td>\n",
       "      <td>http://images.amazon.com/images/P/0399135782.0...</td>\n",
       "      <td>http://images.amazon.com/images/P/0399135782.0...</td>\n",
       "      <td>http://images.amazon.com/images/P/0399135782.0...</td>\n",
       "    </tr>\n",
       "    <tr>\n",
       "      <th>6</th>\n",
       "      <td>0425176428</td>\n",
       "      <td>What If?: The World's Foremost Military Histor...</td>\n",
       "      <td>Robert Cowley</td>\n",
       "      <td>2000</td>\n",
       "      <td>Berkley Publishing Group</td>\n",
       "      <td>http://images.amazon.com/images/P/0425176428.0...</td>\n",
       "      <td>http://images.amazon.com/images/P/0425176428.0...</td>\n",
       "      <td>http://images.amazon.com/images/P/0425176428.0...</td>\n",
       "    </tr>\n",
       "    <tr>\n",
       "      <th>7</th>\n",
       "      <td>0671870432</td>\n",
       "      <td>PLEADING GUILTY</td>\n",
       "      <td>Scott Turow</td>\n",
       "      <td>1993</td>\n",
       "      <td>Audioworks</td>\n",
       "      <td>http://images.amazon.com/images/P/0671870432.0...</td>\n",
       "      <td>http://images.amazon.com/images/P/0671870432.0...</td>\n",
       "      <td>http://images.amazon.com/images/P/0671870432.0...</td>\n",
       "    </tr>\n",
       "    <tr>\n",
       "      <th>8</th>\n",
       "      <td>0679425608</td>\n",
       "      <td>Under the Black Flag: The Romance and the Real...</td>\n",
       "      <td>David Cordingly</td>\n",
       "      <td>1996</td>\n",
       "      <td>Random House</td>\n",
       "      <td>http://images.amazon.com/images/P/0679425608.0...</td>\n",
       "      <td>http://images.amazon.com/images/P/0679425608.0...</td>\n",
       "      <td>http://images.amazon.com/images/P/0679425608.0...</td>\n",
       "    </tr>\n",
       "    <tr>\n",
       "      <th>9</th>\n",
       "      <td>074322678X</td>\n",
       "      <td>Where You'll Find Me: And Other Stories</td>\n",
       "      <td>Ann Beattie</td>\n",
       "      <td>2002</td>\n",
       "      <td>Scribner</td>\n",
       "      <td>http://images.amazon.com/images/P/074322678X.0...</td>\n",
       "      <td>http://images.amazon.com/images/P/074322678X.0...</td>\n",
       "      <td>http://images.amazon.com/images/P/074322678X.0...</td>\n",
       "    </tr>\n",
       "    <tr>\n",
       "      <th>10</th>\n",
       "      <td>0771074670</td>\n",
       "      <td>Nights Below Station Street</td>\n",
       "      <td>David Adams Richards</td>\n",
       "      <td>1988</td>\n",
       "      <td>Emblem Editions</td>\n",
       "      <td>http://images.amazon.com/images/P/0771074670.0...</td>\n",
       "      <td>http://images.amazon.com/images/P/0771074670.0...</td>\n",
       "      <td>http://images.amazon.com/images/P/0771074670.0...</td>\n",
       "    </tr>\n",
       "    <tr>\n",
       "      <th>11</th>\n",
       "      <td>080652121X</td>\n",
       "      <td>Hitler's Secret Bankers: The Myth of Swiss Neu...</td>\n",
       "      <td>Adam Lebor</td>\n",
       "      <td>2000</td>\n",
       "      <td>Citadel Press</td>\n",
       "      <td>http://images.amazon.com/images/P/080652121X.0...</td>\n",
       "      <td>http://images.amazon.com/images/P/080652121X.0...</td>\n",
       "      <td>http://images.amazon.com/images/P/080652121X.0...</td>\n",
       "    </tr>\n",
       "    <tr>\n",
       "      <th>12</th>\n",
       "      <td>0887841740</td>\n",
       "      <td>The Middle Stories</td>\n",
       "      <td>Sheila Heti</td>\n",
       "      <td>2004</td>\n",
       "      <td>House of Anansi Press</td>\n",
       "      <td>http://images.amazon.com/images/P/0887841740.0...</td>\n",
       "      <td>http://images.amazon.com/images/P/0887841740.0...</td>\n",
       "      <td>http://images.amazon.com/images/P/0887841740.0...</td>\n",
       "    </tr>\n",
       "    <tr>\n",
       "      <th>13</th>\n",
       "      <td>1552041778</td>\n",
       "      <td>Jane Doe</td>\n",
       "      <td>R. J. Kaiser</td>\n",
       "      <td>1999</td>\n",
       "      <td>Mira Books</td>\n",
       "      <td>http://images.amazon.com/images/P/1552041778.0...</td>\n",
       "      <td>http://images.amazon.com/images/P/1552041778.0...</td>\n",
       "      <td>http://images.amazon.com/images/P/1552041778.0...</td>\n",
       "    </tr>\n",
       "    <tr>\n",
       "      <th>14</th>\n",
       "      <td>1558746218</td>\n",
       "      <td>A Second Chicken Soup for the Woman's Soul (Ch...</td>\n",
       "      <td>Jack Canfield</td>\n",
       "      <td>1998</td>\n",
       "      <td>Health Communications</td>\n",
       "      <td>http://images.amazon.com/images/P/1558746218.0...</td>\n",
       "      <td>http://images.amazon.com/images/P/1558746218.0...</td>\n",
       "      <td>http://images.amazon.com/images/P/1558746218.0...</td>\n",
       "    </tr>\n",
       "    <tr>\n",
       "      <th>15</th>\n",
       "      <td>1567407781</td>\n",
       "      <td>The Witchfinder (Amos Walker Mystery Series)</td>\n",
       "      <td>Loren D. Estleman</td>\n",
       "      <td>1998</td>\n",
       "      <td>Brilliance Audio - Trade</td>\n",
       "      <td>http://images.amazon.com/images/P/1567407781.0...</td>\n",
       "      <td>http://images.amazon.com/images/P/1567407781.0...</td>\n",
       "      <td>http://images.amazon.com/images/P/1567407781.0...</td>\n",
       "    </tr>\n",
       "    <tr>\n",
       "      <th>16</th>\n",
       "      <td>1575663937</td>\n",
       "      <td>More Cunning Than Man: A Social History of Rat...</td>\n",
       "      <td>Robert Hendrickson</td>\n",
       "      <td>1999</td>\n",
       "      <td>Kensington Publishing Corp.</td>\n",
       "      <td>http://images.amazon.com/images/P/1575663937.0...</td>\n",
       "      <td>http://images.amazon.com/images/P/1575663937.0...</td>\n",
       "      <td>http://images.amazon.com/images/P/1575663937.0...</td>\n",
       "    </tr>\n",
       "    <tr>\n",
       "      <th>17</th>\n",
       "      <td>1881320189</td>\n",
       "      <td>Goodbye to the Buttermilk Sky</td>\n",
       "      <td>Julia Oliver</td>\n",
       "      <td>1994</td>\n",
       "      <td>River City Pub</td>\n",
       "      <td>http://images.amazon.com/images/P/1881320189.0...</td>\n",
       "      <td>http://images.amazon.com/images/P/1881320189.0...</td>\n",
       "      <td>http://images.amazon.com/images/P/1881320189.0...</td>\n",
       "    </tr>\n",
       "    <tr>\n",
       "      <th>18</th>\n",
       "      <td>0440234743</td>\n",
       "      <td>The Testament</td>\n",
       "      <td>John Grisham</td>\n",
       "      <td>1999</td>\n",
       "      <td>Dell</td>\n",
       "      <td>http://images.amazon.com/images/P/0440234743.0...</td>\n",
       "      <td>http://images.amazon.com/images/P/0440234743.0...</td>\n",
       "      <td>http://images.amazon.com/images/P/0440234743.0...</td>\n",
       "    </tr>\n",
       "    <tr>\n",
       "      <th>19</th>\n",
       "      <td>0452264464</td>\n",
       "      <td>Beloved (Plume Contemporary Fiction)</td>\n",
       "      <td>Toni Morrison</td>\n",
       "      <td>1994</td>\n",
       "      <td>Plume</td>\n",
       "      <td>http://images.amazon.com/images/P/0452264464.0...</td>\n",
       "      <td>http://images.amazon.com/images/P/0452264464.0...</td>\n",
       "      <td>http://images.amazon.com/images/P/0452264464.0...</td>\n",
       "    </tr>\n",
       "    <tr>\n",
       "      <th>20</th>\n",
       "      <td>0609804618</td>\n",
       "      <td>Our Dumb Century: The Onion Presents 100 Years...</td>\n",
       "      <td>The Onion</td>\n",
       "      <td>1999</td>\n",
       "      <td>Three Rivers Press</td>\n",
       "      <td>http://images.amazon.com/images/P/0609804618.0...</td>\n",
       "      <td>http://images.amazon.com/images/P/0609804618.0...</td>\n",
       "      <td>http://images.amazon.com/images/P/0609804618.0...</td>\n",
       "    </tr>\n",
       "    <tr>\n",
       "      <th>21</th>\n",
       "      <td>1841721522</td>\n",
       "      <td>New Vegetarian: Bold and Beautiful Recipes for...</td>\n",
       "      <td>Celia Brooks Brown</td>\n",
       "      <td>2001</td>\n",
       "      <td>Ryland Peters &amp;amp; Small Ltd</td>\n",
       "      <td>http://images.amazon.com/images/P/1841721522.0...</td>\n",
       "      <td>http://images.amazon.com/images/P/1841721522.0...</td>\n",
       "      <td>http://images.amazon.com/images/P/1841721522.0...</td>\n",
       "    </tr>\n",
       "    <tr>\n",
       "      <th>22</th>\n",
       "      <td>1879384493</td>\n",
       "      <td>If I'd Known Then What I Know Now: Why Not Lea...</td>\n",
       "      <td>J. R. Parrish</td>\n",
       "      <td>2003</td>\n",
       "      <td>Cypress House</td>\n",
       "      <td>http://images.amazon.com/images/P/1879384493.0...</td>\n",
       "      <td>http://images.amazon.com/images/P/1879384493.0...</td>\n",
       "      <td>http://images.amazon.com/images/P/1879384493.0...</td>\n",
       "    </tr>\n",
       "    <tr>\n",
       "      <th>23</th>\n",
       "      <td>0061076031</td>\n",
       "      <td>Mary-Kate &amp;amp; Ashley Switching Goals (Mary-K...</td>\n",
       "      <td>Mary-Kate &amp;amp; Ashley Olsen</td>\n",
       "      <td>2000</td>\n",
       "      <td>HarperEntertainment</td>\n",
       "      <td>http://images.amazon.com/images/P/0061076031.0...</td>\n",
       "      <td>http://images.amazon.com/images/P/0061076031.0...</td>\n",
       "      <td>http://images.amazon.com/images/P/0061076031.0...</td>\n",
       "    </tr>\n",
       "    <tr>\n",
       "      <th>24</th>\n",
       "      <td>0439095026</td>\n",
       "      <td>Tell Me This Isn't Happening</td>\n",
       "      <td>Robynn Clairday</td>\n",
       "      <td>1999</td>\n",
       "      <td>Scholastic</td>\n",
       "      <td>http://images.amazon.com/images/P/0439095026.0...</td>\n",
       "      <td>http://images.amazon.com/images/P/0439095026.0...</td>\n",
       "      <td>http://images.amazon.com/images/P/0439095026.0...</td>\n",
       "    </tr>\n",
       "  </tbody>\n",
       "</table>\n",
       "</div>"
      ],
      "text/plain": [
       "          ISBN                                         Book-Title  \\\n",
       "0   0195153448                                Classical Mythology   \n",
       "1   0002005018                                       Clara Callan   \n",
       "2   0060973129                               Decision in Normandy   \n",
       "3   0374157065  Flu: The Story of the Great Influenza Pandemic...   \n",
       "4   0393045218                             The Mummies of Urumchi   \n",
       "5   0399135782                             The Kitchen God's Wife   \n",
       "6   0425176428  What If?: The World's Foremost Military Histor...   \n",
       "7   0671870432                                    PLEADING GUILTY   \n",
       "8   0679425608  Under the Black Flag: The Romance and the Real...   \n",
       "9   074322678X            Where You'll Find Me: And Other Stories   \n",
       "10  0771074670                        Nights Below Station Street   \n",
       "11  080652121X  Hitler's Secret Bankers: The Myth of Swiss Neu...   \n",
       "12  0887841740                                 The Middle Stories   \n",
       "13  1552041778                                           Jane Doe   \n",
       "14  1558746218  A Second Chicken Soup for the Woman's Soul (Ch...   \n",
       "15  1567407781       The Witchfinder (Amos Walker Mystery Series)   \n",
       "16  1575663937  More Cunning Than Man: A Social History of Rat...   \n",
       "17  1881320189                      Goodbye to the Buttermilk Sky   \n",
       "18  0440234743                                      The Testament   \n",
       "19  0452264464               Beloved (Plume Contemporary Fiction)   \n",
       "20  0609804618  Our Dumb Century: The Onion Presents 100 Years...   \n",
       "21  1841721522  New Vegetarian: Bold and Beautiful Recipes for...   \n",
       "22  1879384493  If I'd Known Then What I Know Now: Why Not Lea...   \n",
       "23  0061076031  Mary-Kate &amp; Ashley Switching Goals (Mary-K...   \n",
       "24  0439095026                       Tell Me This Isn't Happening   \n",
       "\n",
       "                     Book-Author Year-Of-Publication  \\\n",
       "0             Mark P. O. Morford                2002   \n",
       "1           Richard Bruce Wright                2001   \n",
       "2                   Carlo D'Este                1991   \n",
       "3               Gina Bari Kolata                1999   \n",
       "4                E. J. W. Barber                1999   \n",
       "5                        Amy Tan                1991   \n",
       "6                  Robert Cowley                2000   \n",
       "7                    Scott Turow                1993   \n",
       "8                David Cordingly                1996   \n",
       "9                    Ann Beattie                2002   \n",
       "10          David Adams Richards                1988   \n",
       "11                    Adam Lebor                2000   \n",
       "12                   Sheila Heti                2004   \n",
       "13                  R. J. Kaiser                1999   \n",
       "14                 Jack Canfield                1998   \n",
       "15             Loren D. Estleman                1998   \n",
       "16            Robert Hendrickson                1999   \n",
       "17                  Julia Oliver                1994   \n",
       "18                  John Grisham                1999   \n",
       "19                 Toni Morrison                1994   \n",
       "20                     The Onion                1999   \n",
       "21            Celia Brooks Brown                2001   \n",
       "22                 J. R. Parrish                2003   \n",
       "23  Mary-Kate &amp; Ashley Olsen                2000   \n",
       "24               Robynn Clairday                1999   \n",
       "\n",
       "                        Publisher  \\\n",
       "0         Oxford University Press   \n",
       "1           HarperFlamingo Canada   \n",
       "2                 HarperPerennial   \n",
       "3            Farrar Straus Giroux   \n",
       "4      W. W. Norton &amp; Company   \n",
       "5                Putnam Pub Group   \n",
       "6        Berkley Publishing Group   \n",
       "7                      Audioworks   \n",
       "8                    Random House   \n",
       "9                        Scribner   \n",
       "10                Emblem Editions   \n",
       "11                  Citadel Press   \n",
       "12          House of Anansi Press   \n",
       "13                     Mira Books   \n",
       "14          Health Communications   \n",
       "15       Brilliance Audio - Trade   \n",
       "16    Kensington Publishing Corp.   \n",
       "17                 River City Pub   \n",
       "18                           Dell   \n",
       "19                          Plume   \n",
       "20             Three Rivers Press   \n",
       "21  Ryland Peters &amp; Small Ltd   \n",
       "22                  Cypress House   \n",
       "23            HarperEntertainment   \n",
       "24                     Scholastic   \n",
       "\n",
       "                                          Image-URL-S  \\\n",
       "0   http://images.amazon.com/images/P/0195153448.0...   \n",
       "1   http://images.amazon.com/images/P/0002005018.0...   \n",
       "2   http://images.amazon.com/images/P/0060973129.0...   \n",
       "3   http://images.amazon.com/images/P/0374157065.0...   \n",
       "4   http://images.amazon.com/images/P/0393045218.0...   \n",
       "5   http://images.amazon.com/images/P/0399135782.0...   \n",
       "6   http://images.amazon.com/images/P/0425176428.0...   \n",
       "7   http://images.amazon.com/images/P/0671870432.0...   \n",
       "8   http://images.amazon.com/images/P/0679425608.0...   \n",
       "9   http://images.amazon.com/images/P/074322678X.0...   \n",
       "10  http://images.amazon.com/images/P/0771074670.0...   \n",
       "11  http://images.amazon.com/images/P/080652121X.0...   \n",
       "12  http://images.amazon.com/images/P/0887841740.0...   \n",
       "13  http://images.amazon.com/images/P/1552041778.0...   \n",
       "14  http://images.amazon.com/images/P/1558746218.0...   \n",
       "15  http://images.amazon.com/images/P/1567407781.0...   \n",
       "16  http://images.amazon.com/images/P/1575663937.0...   \n",
       "17  http://images.amazon.com/images/P/1881320189.0...   \n",
       "18  http://images.amazon.com/images/P/0440234743.0...   \n",
       "19  http://images.amazon.com/images/P/0452264464.0...   \n",
       "20  http://images.amazon.com/images/P/0609804618.0...   \n",
       "21  http://images.amazon.com/images/P/1841721522.0...   \n",
       "22  http://images.amazon.com/images/P/1879384493.0...   \n",
       "23  http://images.amazon.com/images/P/0061076031.0...   \n",
       "24  http://images.amazon.com/images/P/0439095026.0...   \n",
       "\n",
       "                                          Image-URL-M  \\\n",
       "0   http://images.amazon.com/images/P/0195153448.0...   \n",
       "1   http://images.amazon.com/images/P/0002005018.0...   \n",
       "2   http://images.amazon.com/images/P/0060973129.0...   \n",
       "3   http://images.amazon.com/images/P/0374157065.0...   \n",
       "4   http://images.amazon.com/images/P/0393045218.0...   \n",
       "5   http://images.amazon.com/images/P/0399135782.0...   \n",
       "6   http://images.amazon.com/images/P/0425176428.0...   \n",
       "7   http://images.amazon.com/images/P/0671870432.0...   \n",
       "8   http://images.amazon.com/images/P/0679425608.0...   \n",
       "9   http://images.amazon.com/images/P/074322678X.0...   \n",
       "10  http://images.amazon.com/images/P/0771074670.0...   \n",
       "11  http://images.amazon.com/images/P/080652121X.0...   \n",
       "12  http://images.amazon.com/images/P/0887841740.0...   \n",
       "13  http://images.amazon.com/images/P/1552041778.0...   \n",
       "14  http://images.amazon.com/images/P/1558746218.0...   \n",
       "15  http://images.amazon.com/images/P/1567407781.0...   \n",
       "16  http://images.amazon.com/images/P/1575663937.0...   \n",
       "17  http://images.amazon.com/images/P/1881320189.0...   \n",
       "18  http://images.amazon.com/images/P/0440234743.0...   \n",
       "19  http://images.amazon.com/images/P/0452264464.0...   \n",
       "20  http://images.amazon.com/images/P/0609804618.0...   \n",
       "21  http://images.amazon.com/images/P/1841721522.0...   \n",
       "22  http://images.amazon.com/images/P/1879384493.0...   \n",
       "23  http://images.amazon.com/images/P/0061076031.0...   \n",
       "24  http://images.amazon.com/images/P/0439095026.0...   \n",
       "\n",
       "                                          Image-URL-L  \n",
       "0   http://images.amazon.com/images/P/0195153448.0...  \n",
       "1   http://images.amazon.com/images/P/0002005018.0...  \n",
       "2   http://images.amazon.com/images/P/0060973129.0...  \n",
       "3   http://images.amazon.com/images/P/0374157065.0...  \n",
       "4   http://images.amazon.com/images/P/0393045218.0...  \n",
       "5   http://images.amazon.com/images/P/0399135782.0...  \n",
       "6   http://images.amazon.com/images/P/0425176428.0...  \n",
       "7   http://images.amazon.com/images/P/0671870432.0...  \n",
       "8   http://images.amazon.com/images/P/0679425608.0...  \n",
       "9   http://images.amazon.com/images/P/074322678X.0...  \n",
       "10  http://images.amazon.com/images/P/0771074670.0...  \n",
       "11  http://images.amazon.com/images/P/080652121X.0...  \n",
       "12  http://images.amazon.com/images/P/0887841740.0...  \n",
       "13  http://images.amazon.com/images/P/1552041778.0...  \n",
       "14  http://images.amazon.com/images/P/1558746218.0...  \n",
       "15  http://images.amazon.com/images/P/1567407781.0...  \n",
       "16  http://images.amazon.com/images/P/1575663937.0...  \n",
       "17  http://images.amazon.com/images/P/1881320189.0...  \n",
       "18  http://images.amazon.com/images/P/0440234743.0...  \n",
       "19  http://images.amazon.com/images/P/0452264464.0...  \n",
       "20  http://images.amazon.com/images/P/0609804618.0...  \n",
       "21  http://images.amazon.com/images/P/1841721522.0...  \n",
       "22  http://images.amazon.com/images/P/1879384493.0...  \n",
       "23  http://images.amazon.com/images/P/0061076031.0...  \n",
       "24  http://images.amazon.com/images/P/0439095026.0...  "
      ]
     },
     "execution_count": 3,
     "metadata": {},
     "output_type": "execute_result"
    }
   ],
   "source": [
    "books = pd.read_csv(\"C:/Users/v_rusakevich/Documents/аметист/recom/BX-Books.csv\", sep=';', encoding = \"ISO-8859-1\", error_bad_lines=False)\n",
    "books.head(25)"
   ]
  },
  {
   "cell_type": "markdown",
   "metadata": {},
   "source": [
    "### Формирование датасета для обучения"
   ]
  },
  {
   "cell_type": "code",
   "execution_count": 4,
   "metadata": {},
   "outputs": [],
   "source": [
    "# Создание экземпляра класса датасета и передача в него пользователей и элементов\n",
    "dataset = data.Dataset()\n",
    "dataset.fit((row.user_id for row in ratings.itertuples()),\n",
    "            (row.item_id for row in ratings.itertuples()))"
   ]
  },
  {
   "cell_type": "code",
   "execution_count": 5,
   "metadata": {},
   "outputs": [],
   "source": [
    "# Создание матриц пользователей-элементов и весов\n",
    "(matrix, weights) = dataset.build_interactions((row.user_id, row.item_id, row.weight) for row in ratings.itertuples())"
   ]
  },
  {
   "cell_type": "code",
   "execution_count": 6,
   "metadata": {},
   "outputs": [],
   "source": [
    "# Разбиение матриц на тренировочные и тестовые\n",
    "(train, test) = cross_validation.random_train_test_split(matrix, random_state=np.random.RandomState(seed=1))\n",
    "(train_weight, test_weight) = cross_validation.random_train_test_split(weights, random_state=np.random.RandomState(seed=1))"
   ]
  },
  {
   "cell_type": "markdown",
   "metadata": {},
   "source": [
    "###### Обучение первой модели на функции потерь logistic:"
   ]
  },
  {
   "cell_type": "code",
   "execution_count": 7,
   "metadata": {},
   "outputs": [
    {
     "data": {
      "text/plain": [
       "<lightfm.lightfm.LightFM at 0x1fa2c953c50>"
      ]
     },
     "execution_count": 7,
     "metadata": {},
     "output_type": "execute_result"
    }
   ],
   "source": [
    "model1 = LightFM(no_components=30)\n",
    "model1.fit(train, sample_weight=train_weight, epochs=20)"
   ]
  },
  {
   "cell_type": "code",
   "execution_count": 8,
   "metadata": {},
   "outputs": [
    {
     "data": {
      "text/plain": [
       "0.8736942"
      ]
     },
     "execution_count": 8,
     "metadata": {},
     "output_type": "execute_result"
    }
   ],
   "source": [
    "# roc-auc метрика на тренировочной выборке\n",
    "train_auc = auc_score(model1, train).mean()\n",
    "train_auc"
   ]
  },
  {
   "cell_type": "code",
   "execution_count": 9,
   "metadata": {},
   "outputs": [
    {
     "data": {
      "text/plain": [
       "0.7344953"
      ]
     },
     "execution_count": 9,
     "metadata": {},
     "output_type": "execute_result"
    }
   ],
   "source": [
    "# roc-auc метрика на тестовой выборке\n",
    "test_auc = auc_score(model1, test).mean()\n",
    "test_auc"
   ]
  },
  {
   "cell_type": "markdown",
   "metadata": {},
   "source": [
    "###### Обучение второй модели на функции потерь Bayesian Personalised Ranking:"
   ]
  },
  {
   "cell_type": "code",
   "execution_count": 10,
   "metadata": {},
   "outputs": [
    {
     "data": {
      "text/plain": [
       "<lightfm.lightfm.LightFM at 0x1fa2617cac8>"
      ]
     },
     "execution_count": 10,
     "metadata": {},
     "output_type": "execute_result"
    }
   ],
   "source": [
    "model2 = LightFM(no_components=30, loss='bpr')\n",
    "model2.fit(train, sample_weight=train_weight, epochs=20)"
   ]
  },
  {
   "cell_type": "code",
   "execution_count": 11,
   "metadata": {},
   "outputs": [
    {
     "data": {
      "text/plain": [
       "0.7802796"
      ]
     },
     "execution_count": 11,
     "metadata": {},
     "output_type": "execute_result"
    }
   ],
   "source": [
    "# roc-auc метрика на тренировочной выборке\n",
    "train_auc = auc_score(model2, train).mean()\n",
    "train_auc"
   ]
  },
  {
   "cell_type": "code",
   "execution_count": 12,
   "metadata": {},
   "outputs": [
    {
     "data": {
      "text/plain": [
       "0.62315875"
      ]
     },
     "execution_count": 12,
     "metadata": {},
     "output_type": "execute_result"
    }
   ],
   "source": [
    "# roc-auc метрика на тестовой выборке\n",
    "test_auc = auc_score(model2, test).mean()\n",
    "test_auc"
   ]
  },
  {
   "cell_type": "markdown",
   "metadata": {},
   "source": [
    "###### Обучение третьей модели на функции потерь Weighted Approximate-Rank:"
   ]
  },
  {
   "cell_type": "code",
   "execution_count": 13,
   "metadata": {},
   "outputs": [
    {
     "data": {
      "text/plain": [
       "<lightfm.lightfm.LightFM at 0x1fa2617c080>"
      ]
     },
     "execution_count": 13,
     "metadata": {},
     "output_type": "execute_result"
    }
   ],
   "source": [
    "model3 = LightFM(no_components=30, loss='warp')\n",
    "model3.fit(train, sample_weight=train_weight, epochs=20)"
   ]
  },
  {
   "cell_type": "code",
   "execution_count": 14,
   "metadata": {},
   "outputs": [
    {
     "data": {
      "text/plain": [
       "0.8809248"
      ]
     },
     "execution_count": 14,
     "metadata": {},
     "output_type": "execute_result"
    }
   ],
   "source": [
    "# roc-auc метрика на тренировочной выборке\n",
    "train_auc = auc_score(model3, train).mean()\n",
    "train_auc"
   ]
  },
  {
   "cell_type": "code",
   "execution_count": 15,
   "metadata": {},
   "outputs": [
    {
     "data": {
      "text/plain": [
       "0.72153366"
      ]
     },
     "execution_count": 15,
     "metadata": {},
     "output_type": "execute_result"
    }
   ],
   "source": [
    "# roc-auc метрика на тестовой выборке\n",
    "test_auc = auc_score(model3, test).mean()\n",
    "test_auc"
   ]
  },
  {
   "cell_type": "markdown",
   "metadata": {},
   "source": [
    "Лучше всего качество получилось у функций потерь logistic и warp - это первая и третья модель"
   ]
  },
  {
   "cell_type": "markdown",
   "metadata": {},
   "source": [
    "###### Рекомендации на первой и третьей моделях:"
   ]
  },
  {
   "cell_type": "code",
   "execution_count": 16,
   "metadata": {},
   "outputs": [],
   "source": [
    "def display_recommended_items(model, user_id, data):\n",
    "    '''Функция вывода на печать известных рейтингов у пользователя и рекомендации для него'''\n",
    "    scores = model.predict(user_id, np.arange(data.shape[1]))\n",
    "    scores = np.argsort(-scores)[0:10]\n",
    "    items = {v:k for k, v in dataset.mapping()[2].items()}\n",
    "    users = {v:k for k, v in dataset.mapping()[0].items()}\n",
    "\n",
    "    known_positives = ratings[ratings['user_id']==users[user_id]].sort_values('weight', ascending=False)\n",
    "    print('Known positives:')\n",
    "    for i in known_positives.itertuples():\n",
    "        author = books[books['ISBN'] == i.item_id]['Book-Author'].values\n",
    "        title = books[books['ISBN'] == i.item_id]['Book-Title'].values\n",
    "        if author != '' or title != '':\n",
    "            print('{} - {} - {}'.format(*author, *title, i.weight))\n",
    "    print('############################################################')\n",
    "    print('Recommendations:')\n",
    "    for i in scores:\n",
    "        author = books[books['ISBN'] == items[i]]['Book-Author'].values\n",
    "        title = books[books['ISBN'] == items[i]]['Book-Title'].values\n",
    "        if author != '' or title != '':\n",
    "            print('{} - {}'.format(*author, *title))"
   ]
  },
  {
   "cell_type": "code",
   "execution_count": 17,
   "metadata": {},
   "outputs": [
    {
     "name": "stdout",
     "output_type": "stream",
     "text": [
      "Herman Melville - Billy Budd and Other Tales (Signet Classic) - 7\n",
      "############################################################\n",
      "Alice Sebold - The Lovely Bones: A Novel\n",
      "Dan Brown - The Da Vinci Code\n",
      "Rich Shapero - Wild Animus\n",
      "Anita Diamant - The Red Tent (Bestselling Backlist)\n",
      "Rebecca Wells - Divine Secrets of the Ya-Ya Sisterhood: A Novel\n",
      "John Grisham - A Painted House\n",
      "Tracy Chevalier - Girl with a Pearl Earring\n",
      "J. K. Rowling - Harry Potter and the Sorcerer's Stone (Harry Potter (Paperback))\n",
      "Sue Monk Kidd - The Secret Life of Bees\n"
     ]
    }
   ],
   "source": [
    "display_recommended_items(model1, 388, matrix)"
   ]
  },
  {
   "cell_type": "code",
   "execution_count": 18,
   "metadata": {},
   "outputs": [
    {
     "name": "stdout",
     "output_type": "stream",
     "text": [
      "Herman Melville - Billy Budd and Other Tales (Signet Classic) - 7\n",
      "############################################################\n",
      "Rich Shapero - Wild Animus\n",
      "Eric Schlosser - Fast Food Nation: The Dark Side of the All-American Meal\n",
      "David P. Jordan - Out Of The Night (Harlequin Presents, No. 1427)\n",
      "Reiji Saiga - Real Bout High School, Book 4\n",
      "Herman Melville - Billy Budd and Other Tales (Signet Classic)\n",
      "Helen Fielding - Bridget Jones's Diary\n",
      "Marc Alexander - Not After Nightfall\n",
      "Dawn Reno - All That Glitters\n",
      "Bryan E. Robinson - The Feel Good Book: 1001 Ways to Be Happy\n",
      "Ingrid Seward - The Queen &amp; Di : The Untold Story\n"
     ]
    }
   ],
   "source": [
    "display_recommended_items(model3, 388, matrix)"
   ]
  },
  {
   "cell_type": "markdown",
   "metadata": {},
   "source": [
    "Рекомендации у двух моделей разные, хотя одно совпадение есть - Rich Shapero - Wild Animus"
   ]
  }
 ],
 "metadata": {
  "kernelspec": {
   "display_name": "Python 3",
   "language": "python",
   "name": "python3"
  },
  "language_info": {
   "codemirror_mode": {
    "name": "ipython",
    "version": 3
   },
   "file_extension": ".py",
   "mimetype": "text/x-python",
   "name": "python",
   "nbconvert_exporter": "python",
   "pygments_lexer": "ipython3",
   "version": "3.7.1"
  }
 },
 "nbformat": 4,
 "nbformat_minor": 2
}
