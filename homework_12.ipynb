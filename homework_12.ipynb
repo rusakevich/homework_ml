{
 "cells": [
  {
   "cell_type": "code",
   "execution_count": 1,
   "metadata": {},
   "outputs": [],
   "source": [
    "import pandas as pd\n",
    "import numpy as np\n",
    "import matplotlib.pyplot as plt\n",
    "from sklearn.metrics import classification_report\n",
    "from sklearn.pipeline import Pipeline, FeatureUnion\n",
    "from sklearn.linear_model import LogisticRegression\n",
    "import warnings\n",
    "from sklearn.feature_extraction.text import TfidfVectorizer\n",
    "from sklearn.model_selection import GridSearchCV, train_test_split\n",
    "import nltk\n",
    "from nltk.corpus import stopwords\n",
    "import re\n",
    "warnings.filterwarnings('ignore')\n",
    "%matplotlib inline"
   ]
  },
  {
   "cell_type": "markdown",
   "metadata": {},
   "source": [
    "## Считывание датасета"
   ]
  },
  {
   "cell_type": "markdown",
   "metadata": {},
   "source": [
    "##### Набор данных содержит отзывы на фильмы и оценки \"positive\" или \"negative\" с сайта IMDB. Необходимо на основе отзывов научиться предсказывать оценки."
   ]
  },
  {
   "cell_type": "code",
   "execution_count": 2,
   "metadata": {},
   "outputs": [],
   "source": [
    "df = pd.read_csv('IMDB Dataset.csv.zip', compression='zip')"
   ]
  },
  {
   "cell_type": "code",
   "execution_count": 3,
   "metadata": {
    "scrolled": true
   },
   "outputs": [
    {
     "data": {
      "text/html": [
       "<div>\n",
       "<style scoped>\n",
       "    .dataframe tbody tr th:only-of-type {\n",
       "        vertical-align: middle;\n",
       "    }\n",
       "\n",
       "    .dataframe tbody tr th {\n",
       "        vertical-align: top;\n",
       "    }\n",
       "\n",
       "    .dataframe thead th {\n",
       "        text-align: right;\n",
       "    }\n",
       "</style>\n",
       "<table border=\"1\" class=\"dataframe\">\n",
       "  <thead>\n",
       "    <tr style=\"text-align: right;\">\n",
       "      <th></th>\n",
       "      <th>review</th>\n",
       "      <th>sentiment</th>\n",
       "    </tr>\n",
       "  </thead>\n",
       "  <tbody>\n",
       "    <tr>\n",
       "      <th>0</th>\n",
       "      <td>One of the other reviewers has mentioned that ...</td>\n",
       "      <td>positive</td>\n",
       "    </tr>\n",
       "    <tr>\n",
       "      <th>1</th>\n",
       "      <td>A wonderful little production. &lt;br /&gt;&lt;br /&gt;The...</td>\n",
       "      <td>positive</td>\n",
       "    </tr>\n",
       "    <tr>\n",
       "      <th>2</th>\n",
       "      <td>I thought this was a wonderful way to spend ti...</td>\n",
       "      <td>positive</td>\n",
       "    </tr>\n",
       "    <tr>\n",
       "      <th>3</th>\n",
       "      <td>Basically there's a family where a little boy ...</td>\n",
       "      <td>negative</td>\n",
       "    </tr>\n",
       "    <tr>\n",
       "      <th>4</th>\n",
       "      <td>Petter Mattei's \"Love in the Time of Money\" is...</td>\n",
       "      <td>positive</td>\n",
       "    </tr>\n",
       "    <tr>\n",
       "      <th>5</th>\n",
       "      <td>Probably my all-time favorite movie, a story o...</td>\n",
       "      <td>positive</td>\n",
       "    </tr>\n",
       "    <tr>\n",
       "      <th>6</th>\n",
       "      <td>I sure would like to see a resurrection of a u...</td>\n",
       "      <td>positive</td>\n",
       "    </tr>\n",
       "    <tr>\n",
       "      <th>7</th>\n",
       "      <td>This show was an amazing, fresh &amp; innovative i...</td>\n",
       "      <td>negative</td>\n",
       "    </tr>\n",
       "    <tr>\n",
       "      <th>8</th>\n",
       "      <td>Encouraged by the positive comments about this...</td>\n",
       "      <td>negative</td>\n",
       "    </tr>\n",
       "    <tr>\n",
       "      <th>9</th>\n",
       "      <td>If you like original gut wrenching laughter yo...</td>\n",
       "      <td>positive</td>\n",
       "    </tr>\n",
       "  </tbody>\n",
       "</table>\n",
       "</div>"
      ],
      "text/plain": [
       "                                              review sentiment\n",
       "0  One of the other reviewers has mentioned that ...  positive\n",
       "1  A wonderful little production. <br /><br />The...  positive\n",
       "2  I thought this was a wonderful way to spend ti...  positive\n",
       "3  Basically there's a family where a little boy ...  negative\n",
       "4  Petter Mattei's \"Love in the Time of Money\" is...  positive\n",
       "5  Probably my all-time favorite movie, a story o...  positive\n",
       "6  I sure would like to see a resurrection of a u...  positive\n",
       "7  This show was an amazing, fresh & innovative i...  negative\n",
       "8  Encouraged by the positive comments about this...  negative\n",
       "9  If you like original gut wrenching laughter yo...  positive"
      ]
     },
     "execution_count": 3,
     "metadata": {},
     "output_type": "execute_result"
    }
   ],
   "source": [
    "# Датасет содержит 2 признака - отзыв и оценка\n",
    "df.head(10)"
   ]
  },
  {
   "cell_type": "code",
   "execution_count": 4,
   "metadata": {
    "scrolled": true
   },
   "outputs": [
    {
     "name": "stdout",
     "output_type": "stream",
     "text": [
      "<class 'pandas.core.frame.DataFrame'>\n",
      "RangeIndex: 50000 entries, 0 to 49999\n",
      "Data columns (total 2 columns):\n",
      "review       50000 non-null object\n",
      "sentiment    50000 non-null object\n",
      "dtypes: object(2)\n",
      "memory usage: 781.4+ KB\n"
     ]
    }
   ],
   "source": [
    "# Все признаки текстовые, всего 50000 объектов\n",
    "df.info()"
   ]
  },
  {
   "cell_type": "code",
   "execution_count": 5,
   "metadata": {
    "scrolled": true
   },
   "outputs": [
    {
     "data": {
      "text/plain": [
       "sentiment    0\n",
       "review       0\n",
       "dtype: int64"
      ]
     },
     "execution_count": 5,
     "metadata": {},
     "output_type": "execute_result"
    }
   ],
   "source": [
    "# Пропусков нет\n",
    "df.isnull().sum().sort_values(ascending=False)"
   ]
  },
  {
   "cell_type": "code",
   "execution_count": 6,
   "metadata": {},
   "outputs": [
    {
     "data": {
      "text/plain": [
       "sentiment\n",
       "negative    25000\n",
       "positive    25000\n",
       "dtype: int64"
      ]
     },
     "execution_count": 6,
     "metadata": {},
     "output_type": "execute_result"
    }
   ],
   "source": [
    "# Количество позитивных и негативных оценок ровно по половине в датасете\n",
    "df.groupby('sentiment').size() "
   ]
  },
  {
   "cell_type": "code",
   "execution_count": 7,
   "metadata": {},
   "outputs": [
    {
     "data": {
      "image/png": "[encoded data removed]",
      "text/plain": [
       "<Figure size 432x288 with 1 Axes>"
      ]
     },
     "metadata": {
      "needs_background": "light"
     },
     "output_type": "display_data"
    }
   ],
   "source": [
    "# Целевая переменная полностью сбалансирована\n",
    "df['sentiment'].apply(lambda x: 1 if x == 'positive' else 0).hist(bins=3)\n",
    "plt.show()"
   ]
  },
  {
   "cell_type": "code",
   "execution_count": 8,
   "metadata": {},
   "outputs": [],
   "source": [
    "# Создадим целевую переменную\n",
    "target = df['sentiment'].apply(lambda x: 1 if x == 'positive' else 0)"
   ]
  },
  {
   "cell_type": "markdown",
   "metadata": {},
   "source": [
    "##### Создание необходимых классов и pipeline:"
   ]
  },
  {
   "cell_type": "code",
   "execution_count": 9,
   "metadata": {},
   "outputs": [],
   "source": [
    "class TextPrep():\n",
    "    \"\"\"Класс очистки текста от переносов и приведение в нижний регистр\"\"\"\n",
    "    def fit(self, X, y=None):\n",
    "        return self\n",
    "    def transform(self, X, y=None):\n",
    "        self.X = X\n",
    "        self.X = self.X.drop('sentiment', axis=1)        \n",
    "        self.X['review'] = self.X['review'].apply(lambda x: re.sub(r'[^\\w\\s]', '', x.lower()))\n",
    "        return self.X\n",
    "    \n",
    "class Stemmer():\n",
    "    \"\"\"Класс стемминга\"\"\"\n",
    "    def fit(self, X, y=None): \n",
    "        return self\n",
    "    def transform(self, X, y=None):\n",
    "        self.X = X\n",
    "        self.stop = stopwords.words('english')\n",
    "        self.stemmer = nltk.stem.snowball.EnglishStemmer('english')\n",
    "        self.X.review = self.X.review.apply(lambda x: ' '.join([self.stemmer.stem(word) for word in x.split(' ') if word not in self.stop]))\n",
    "        return self.X.review"
   ]
  },
  {
   "cell_type": "code",
   "execution_count": 10,
   "metadata": {},
   "outputs": [
    {
     "data": {
      "text/plain": [
       "(50000,)"
      ]
     },
     "execution_count": 10,
     "metadata": {},
     "output_type": "execute_result"
    }
   ],
   "source": [
    "textprep = TextPrep() # Экземпляр очистки текста\n",
    "stemmer = Stemmer() # Экземпляр стемминга слов текста\n",
    "\n",
    "# Экземпляр tf-idf векторайзера\n",
    "tf_vectorizer = TfidfVectorizer(stop_words=stopwords.words('english'), norm=None)\n",
    "\n",
    "# Создаем pipeline препроцессинга\n",
    "prep = Pipeline([\n",
    "    (\"textprep\", textprep),\n",
    "    (\"stemmer\", stemmer)\n",
    "])\n",
    "\n",
    "# На выходе будет series, как вариант итерируемого объекта для подачи его на преобразование tf-idf\n",
    "prep.fit_transform(df).shape"
   ]
  },
  {
   "cell_type": "code",
   "execution_count": 11,
   "metadata": {},
   "outputs": [
    {
     "data": {
      "text/plain": [
       "dict_keys(['memory', 'steps', 'verbose', 'tf_vectorizer', 'modelling', 'tf_vectorizer__analyzer', 'tf_vectorizer__binary', 'tf_vectorizer__decode_error', 'tf_vectorizer__dtype', 'tf_vectorizer__encoding', 'tf_vectorizer__input', 'tf_vectorizer__lowercase', 'tf_vectorizer__max_df', 'tf_vectorizer__max_features', 'tf_vectorizer__min_df', 'tf_vectorizer__ngram_range', 'tf_vectorizer__norm', 'tf_vectorizer__preprocessor', 'tf_vectorizer__smooth_idf', 'tf_vectorizer__stop_words', 'tf_vectorizer__strip_accents', 'tf_vectorizer__sublinear_tf', 'tf_vectorizer__token_pattern', 'tf_vectorizer__tokenizer', 'tf_vectorizer__use_idf', 'tf_vectorizer__vocabulary', 'modelling__C', 'modelling__class_weight', 'modelling__dual', 'modelling__fit_intercept', 'modelling__intercept_scaling', 'modelling__l1_ratio', 'modelling__max_iter', 'modelling__multi_class', 'modelling__n_jobs', 'modelling__penalty', 'modelling__random_state', 'modelling__solver', 'modelling__tol', 'modelling__verbose', 'modelling__warm_start'])"
      ]
     },
     "execution_count": 11,
     "metadata": {},
     "output_type": "execute_result"
    }
   ],
   "source": [
    "LR = LogisticRegression() # Экземпляр лог. регрессии\n",
    "\n",
    "# Создаем pipeline модели, который состоит из tf-idf и лог регресии - для удобства подбора параметров\n",
    "model = Pipeline([\n",
    "    (\"tf_vectorizer\", tf_vectorizer),\n",
    "    (\"modelling\", LR)\n",
    "])\n",
    "\n",
    "# Итоговый pipeline: преобразование + модель\n",
    "pipe = Pipeline([\n",
    "    (\"preprocessing\", prep),\n",
    "    (\"model\", model)\n",
    "])\n",
    "# Параметры, которые есть у pipeline модели\n",
    "pipe['model'].get_params().keys()"
   ]
  },
  {
   "cell_type": "markdown",
   "metadata": {},
   "source": [
    "##### Подбор параметров и обучение модели:"
   ]
  },
  {
   "cell_type": "code",
   "execution_count": 12,
   "metadata": {},
   "outputs": [],
   "source": [
    "# Разобьём выборку на тренировачную и тестовую в пропорции 70/30\n",
    "X_train, X_test, y_train, y_test = train_test_split(df, target, test_size=0.30)"
   ]
  },
  {
   "cell_type": "code",
   "execution_count": 13,
   "metadata": {},
   "outputs": [],
   "source": [
    "# Заранее сделаем препроцессинг тренировачной выборки для экономии времени на подборе параметров\n",
    "X_train_prep = pipe['preprocessing'].fit_transform(X_train)"
   ]
  },
  {
   "cell_type": "code",
   "execution_count": 14,
   "metadata": {},
   "outputs": [
    {
     "name": "stdout",
     "output_type": "stream",
     "text": [
      "Wall time: 1h 2min 51s\n"
     ]
    }
   ],
   "source": [
    "%%time\n",
    "# Подберем вид регулиризации, коэффициент при ней и варианты обработки текста\n",
    "param_grid = {\n",
    "    'modelling__penalty' : ['l1', 'l2'],\n",
    "    'modelling__C' : np.logspace(-2, 1, 10),\n",
    "    'tf_vectorizer__ngram_range' : [(1, 2), (1, 1)],\n",
    "    'tf_vectorizer__min_df' : [2, 3, 0.001],\n",
    "    'tf_vectorizer__max_df' : [0.4, 0.5]\n",
    "}\n",
    "search = GridSearchCV(pipe['model'], param_grid=param_grid, cv=5, scoring='f1', n_jobs=-1)\n",
    "search.fit(X_train_prep, y_train)"
   ]
  },
  {
   "cell_type": "code",
   "execution_count": 15,
   "metadata": {},
   "outputs": [
    {
     "data": {
      "text/plain": [
       "0.9019323334447182"
      ]
     },
     "execution_count": 15,
     "metadata": {},
     "output_type": "execute_result"
    }
   ],
   "source": [
    "# лучшая f1 метрика лог регрессии\n",
    "search.best_score_"
   ]
  },
  {
   "cell_type": "code",
   "execution_count": 16,
   "metadata": {},
   "outputs": [
    {
     "data": {
      "text/plain": [
       "{'modelling__C': 0.01,\n",
       " 'modelling__penalty': 'l2',\n",
       " 'tf_vectorizer__max_df': 0.4,\n",
       " 'tf_vectorizer__min_df': 2,\n",
       " 'tf_vectorizer__ngram_range': (1, 2)}"
      ]
     },
     "execution_count": 16,
     "metadata": {},
     "output_type": "execute_result"
    }
   ],
   "source": [
    "# лучшие параметры модели\n",
    "search.best_params_"
   ]
  },
  {
   "cell_type": "code",
   "execution_count": 17,
   "metadata": {},
   "outputs": [
    {
     "name": "stdout",
     "output_type": "stream",
     "text": [
      "              precision    recall  f1-score   support\n",
      "\n",
      "           0       0.91      0.90      0.90      7473\n",
      "           1       0.90      0.91      0.91      7527\n",
      "\n",
      "    accuracy                           0.91     15000\n",
      "   macro avg       0.91      0.91      0.91     15000\n",
      "weighted avg       0.91      0.91      0.91     15000\n",
      "\n"
     ]
    }
   ],
   "source": [
    "# Теперь проверим качество на отложенной тестовой выборке\n",
    "X_test_prep = pipe['preprocessing'].transform(X_test)\n",
    "print(classification_report(y_test, search.best_estimator_.predict(X_test_prep)))"
   ]
  },
  {
   "cell_type": "markdown",
   "metadata": {},
   "source": [
    "#### Визуализация важности слов:"
   ]
  },
  {
   "cell_type": "code",
   "execution_count": 18,
   "metadata": {},
   "outputs": [],
   "source": [
    "# Коэффициенты лог. регресси при признаках-словах\n",
    "coef = search.best_estimator_['modelling'].coef_"
   ]
  },
  {
   "cell_type": "code",
   "execution_count": 19,
   "metadata": {},
   "outputs": [],
   "source": [
    "# Список названий признаков-слов\n",
    "feature_names = search.best_estimator_['tf_vectorizer'].get_feature_names()"
   ]
  },
  {
   "cell_type": "code",
   "execution_count": 20,
   "metadata": {},
   "outputs": [
    {
     "data": {
      "text/html": [
       "<div>\n",
       "<style scoped>\n",
       "    .dataframe tbody tr th:only-of-type {\n",
       "        vertical-align: middle;\n",
       "    }\n",
       "\n",
       "    .dataframe tbody tr th {\n",
       "        vertical-align: top;\n",
       "    }\n",
       "\n",
       "    .dataframe thead th {\n",
       "        text-align: right;\n",
       "    }\n",
       "</style>\n",
       "<table border=\"1\" class=\"dataframe\">\n",
       "  <thead>\n",
       "    <tr style=\"text-align: right;\">\n",
       "      <th></th>\n",
       "      <th>importance</th>\n",
       "    </tr>\n",
       "  </thead>\n",
       "  <tbody>\n",
       "    <tr>\n",
       "      <th>00</th>\n",
       "      <td>0.003706</td>\n",
       "    </tr>\n",
       "    <tr>\n",
       "      <th>00 agent</th>\n",
       "      <td>0.004011</td>\n",
       "    </tr>\n",
       "    <tr>\n",
       "      <th>00 schneider</th>\n",
       "      <td>-0.000293</td>\n",
       "    </tr>\n",
       "    <tr>\n",
       "      <th>000</th>\n",
       "      <td>-0.001237</td>\n",
       "    </tr>\n",
       "    <tr>\n",
       "      <th>001</th>\n",
       "      <td>-0.001018</td>\n",
       "    </tr>\n",
       "    <tr>\n",
       "      <th>002</th>\n",
       "      <td>-0.000582</td>\n",
       "    </tr>\n",
       "    <tr>\n",
       "      <th>002 10</th>\n",
       "      <td>-0.000598</td>\n",
       "    </tr>\n",
       "    <tr>\n",
       "      <th>007</th>\n",
       "      <td>-0.006721</td>\n",
       "    </tr>\n",
       "    <tr>\n",
       "      <th>007 movi</th>\n",
       "      <td>-0.004978</td>\n",
       "    </tr>\n",
       "    <tr>\n",
       "      <th>007 theme</th>\n",
       "      <td>-0.004849</td>\n",
       "    </tr>\n",
       "  </tbody>\n",
       "</table>\n",
       "</div>"
      ],
      "text/plain": [
       "              importance\n",
       "00              0.003706\n",
       "00 agent        0.004011\n",
       "00 schneider   -0.000293\n",
       "000            -0.001237\n",
       "001            -0.001018\n",
       "002            -0.000582\n",
       "002 10         -0.000598\n",
       "007            -0.006721\n",
       "007 movi       -0.004978\n",
       "007 theme      -0.004849"
      ]
     },
     "execution_count": 20,
     "metadata": {},
     "output_type": "execute_result"
    }
   ],
   "source": [
    "# Датафрейм соответствия коэффициентов и слов\n",
    "importance = pd.DataFrame({\"importance\": coef.tolist()[0]}, index=feature_names)\n",
    "importance.head(10)"
   ]
  },
  {
   "cell_type": "code",
   "execution_count": 21,
   "metadata": {},
   "outputs": [
    {
     "data": {
      "image/png": "[encoded data removed]",
      "text/plain": [
       "<Figure size 1080x360 with 1 Axes>"
      ]
     },
     "metadata": {
      "needs_background": "light"
     },
     "output_type": "display_data"
    }
   ],
   "source": [
    "# 50 наиболее важных слов для позитивных отзывов\n",
    "importance.sort_values([\"importance\"], ascending=False).head(50).plot.bar(figsize=(15, 5))\n",
    "plt.show()"
   ]
  },
  {
   "cell_type": "code",
   "execution_count": 22,
   "metadata": {},
   "outputs": [
    {
     "data": {
      "image/png": "[encoded data removed]",
      "text/plain": [
       "<Figure size 1080x360 with 1 Axes>"
      ]
     },
     "metadata": {
      "needs_background": "light"
     },
     "output_type": "display_data"
    }
   ],
   "source": [
    "# 50 наиболее важных слов для негативных отзывов\n",
    "importance.sort_values([\"importance\"], ascending=False).tail(50).plot.bar(figsize=(15, 5))\n",
    "plt.show()"
   ]
  },
  {
   "cell_type": "markdown",
   "metadata": {},
   "source": [
    "#### Выводы:"
   ]
  },
  {
   "cell_type": "markdown",
   "metadata": {},
   "source": [
    "- Логистическая регрессия показала хорошее качество работы как на обучающей так и на тестовой выборке f1=0.90 с использованием биграмм, минимальным количеством слов встречающихся не реже, чем в двух отзывах и не чаще, чем в 50% отзывах;\n",
    "- Наиболее важные слова для позитивных отзывов оказались - \"excellent\", \"great\", \"perfect\", \"brilliant\", \"amazing\", \"enjoy\", а наиболее важные слова для негативных отзывов - \"worst\", \"waste\", \"away\", \"bored\", \"bad\", что, действительно, говорит о логичности работы алгоритма."
   ]
  }
 ],
 "metadata": {
  "kernelspec": {
   "display_name": "Python 3",
   "language": "python",
   "name": "python3"
  },
  "language_info": {
   "codemirror_mode": {
    "name": "ipython",
    "version": 3
   },
   "file_extension": ".py",
   "mimetype": "text/x-python",
   "name": "python",
   "nbconvert_exporter": "python",
   "pygments_lexer": "ipython3",
   "version": "3.7.1"
  }
 },
 "nbformat": 4,
 "nbformat_minor": 2
}
