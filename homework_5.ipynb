{
 "cells": [
  {
   "cell_type": "code",
   "execution_count": 1,
   "metadata": {},
   "outputs": [],
   "source": [
    "import pandas as pd\n",
    "import numpy as np\n",
    "import matplotlib.pyplot as plt\n",
    "import seaborn as sns\n",
    "from itertools import combinations\n",
    "from collections import Counter\n",
    "from sklearn.model_selection import GridSearchCV, RandomizedSearchCV\n",
    "from sklearn.feature_selection import SelectKBest\n",
    "from sklearn.linear_model import LogisticRegression\n",
    "from sklearn.neighbors import KNeighborsClassifier\n",
    "from sklearn.svm import SVC\n",
    "from sklearn.pipeline import Pipeline, FeatureUnion\n",
    "from sklearn.preprocessing import FunctionTransformer, StandardScaler, OneHotEncoder\n",
    "import warnings\n",
    "warnings.filterwarnings('ignore')\n",
    "%matplotlib inline"
   ]
  },
  {
   "cell_type": "markdown",
   "metadata": {},
   "source": [
    "## Считывание датасета и просмотр статистик"
   ]
  },
  {
   "cell_type": "code",
   "execution_count": 2,
   "metadata": {},
   "outputs": [],
   "source": [
    "df = pd.read_csv(\"train.csv.zip\", compression=\"zip\")"
   ]
  },
  {
   "cell_type": "code",
   "execution_count": 3,
   "metadata": {},
   "outputs": [
    {
     "data": {
      "text/html": [
       "<div>\n",
       "<style scoped>\n",
       "    .dataframe tbody tr th:only-of-type {\n",
       "        vertical-align: middle;\n",
       "    }\n",
       "\n",
       "    .dataframe tbody tr th {\n",
       "        vertical-align: top;\n",
       "    }\n",
       "\n",
       "    .dataframe thead th {\n",
       "        text-align: right;\n",
       "    }\n",
       "</style>\n",
       "<table border=\"1\" class=\"dataframe\">\n",
       "  <thead>\n",
       "    <tr style=\"text-align: right;\">\n",
       "      <th></th>\n",
       "      <th>ID</th>\n",
       "      <th>target</th>\n",
       "      <th>v1</th>\n",
       "      <th>v2</th>\n",
       "      <th>v3</th>\n",
       "      <th>v4</th>\n",
       "      <th>v5</th>\n",
       "      <th>v6</th>\n",
       "      <th>v7</th>\n",
       "      <th>v8</th>\n",
       "      <th>...</th>\n",
       "      <th>v122</th>\n",
       "      <th>v123</th>\n",
       "      <th>v124</th>\n",
       "      <th>v125</th>\n",
       "      <th>v126</th>\n",
       "      <th>v127</th>\n",
       "      <th>v128</th>\n",
       "      <th>v129</th>\n",
       "      <th>v130</th>\n",
       "      <th>v131</th>\n",
       "    </tr>\n",
       "  </thead>\n",
       "  <tbody>\n",
       "    <tr>\n",
       "      <th>0</th>\n",
       "      <td>3</td>\n",
       "      <td>1</td>\n",
       "      <td>1.335739</td>\n",
       "      <td>8.727474</td>\n",
       "      <td>C</td>\n",
       "      <td>3.921026</td>\n",
       "      <td>7.915266</td>\n",
       "      <td>2.599278</td>\n",
       "      <td>3.176895</td>\n",
       "      <td>0.012941</td>\n",
       "      <td>...</td>\n",
       "      <td>8.000000</td>\n",
       "      <td>1.989780</td>\n",
       "      <td>0.035754</td>\n",
       "      <td>AU</td>\n",
       "      <td>1.804126</td>\n",
       "      <td>3.113719</td>\n",
       "      <td>2.024285</td>\n",
       "      <td>0</td>\n",
       "      <td>0.636365</td>\n",
       "      <td>2.857144</td>\n",
       "    </tr>\n",
       "    <tr>\n",
       "      <th>1</th>\n",
       "      <td>4</td>\n",
       "      <td>1</td>\n",
       "      <td>NaN</td>\n",
       "      <td>NaN</td>\n",
       "      <td>C</td>\n",
       "      <td>NaN</td>\n",
       "      <td>9.191265</td>\n",
       "      <td>NaN</td>\n",
       "      <td>NaN</td>\n",
       "      <td>2.301630</td>\n",
       "      <td>...</td>\n",
       "      <td>NaN</td>\n",
       "      <td>NaN</td>\n",
       "      <td>0.598896</td>\n",
       "      <td>AF</td>\n",
       "      <td>NaN</td>\n",
       "      <td>NaN</td>\n",
       "      <td>1.957825</td>\n",
       "      <td>0</td>\n",
       "      <td>NaN</td>\n",
       "      <td>NaN</td>\n",
       "    </tr>\n",
       "    <tr>\n",
       "      <th>2</th>\n",
       "      <td>5</td>\n",
       "      <td>1</td>\n",
       "      <td>0.943877</td>\n",
       "      <td>5.310079</td>\n",
       "      <td>C</td>\n",
       "      <td>4.410969</td>\n",
       "      <td>5.326159</td>\n",
       "      <td>3.979592</td>\n",
       "      <td>3.928571</td>\n",
       "      <td>0.019645</td>\n",
       "      <td>...</td>\n",
       "      <td>9.333333</td>\n",
       "      <td>2.477596</td>\n",
       "      <td>0.013452</td>\n",
       "      <td>AE</td>\n",
       "      <td>1.773709</td>\n",
       "      <td>3.922193</td>\n",
       "      <td>1.120468</td>\n",
       "      <td>2</td>\n",
       "      <td>0.883118</td>\n",
       "      <td>1.176472</td>\n",
       "    </tr>\n",
       "    <tr>\n",
       "      <th>3</th>\n",
       "      <td>6</td>\n",
       "      <td>1</td>\n",
       "      <td>0.797415</td>\n",
       "      <td>8.304757</td>\n",
       "      <td>C</td>\n",
       "      <td>4.225930</td>\n",
       "      <td>11.627438</td>\n",
       "      <td>2.097700</td>\n",
       "      <td>1.987549</td>\n",
       "      <td>0.171947</td>\n",
       "      <td>...</td>\n",
       "      <td>7.018256</td>\n",
       "      <td>1.812795</td>\n",
       "      <td>0.002267</td>\n",
       "      <td>CJ</td>\n",
       "      <td>1.415230</td>\n",
       "      <td>2.954381</td>\n",
       "      <td>1.990847</td>\n",
       "      <td>1</td>\n",
       "      <td>1.677108</td>\n",
       "      <td>1.034483</td>\n",
       "    </tr>\n",
       "    <tr>\n",
       "      <th>4</th>\n",
       "      <td>8</td>\n",
       "      <td>1</td>\n",
       "      <td>NaN</td>\n",
       "      <td>NaN</td>\n",
       "      <td>C</td>\n",
       "      <td>NaN</td>\n",
       "      <td>NaN</td>\n",
       "      <td>NaN</td>\n",
       "      <td>NaN</td>\n",
       "      <td>NaN</td>\n",
       "      <td>...</td>\n",
       "      <td>NaN</td>\n",
       "      <td>NaN</td>\n",
       "      <td>NaN</td>\n",
       "      <td>Z</td>\n",
       "      <td>NaN</td>\n",
       "      <td>NaN</td>\n",
       "      <td>NaN</td>\n",
       "      <td>0</td>\n",
       "      <td>NaN</td>\n",
       "      <td>NaN</td>\n",
       "    </tr>\n",
       "  </tbody>\n",
       "</table>\n",
       "<p>5 rows × 133 columns</p>\n",
       "</div>"
      ],
      "text/plain": [
       "   ID  target        v1        v2 v3        v4         v5        v6        v7  \\\n",
       "0   3       1  1.335739  8.727474  C  3.921026   7.915266  2.599278  3.176895   \n",
       "1   4       1       NaN       NaN  C       NaN   9.191265       NaN       NaN   \n",
       "2   5       1  0.943877  5.310079  C  4.410969   5.326159  3.979592  3.928571   \n",
       "3   6       1  0.797415  8.304757  C  4.225930  11.627438  2.097700  1.987549   \n",
       "4   8       1       NaN       NaN  C       NaN        NaN       NaN       NaN   \n",
       "\n",
       "         v8  ...      v122      v123      v124  v125      v126      v127  \\\n",
       "0  0.012941  ...  8.000000  1.989780  0.035754    AU  1.804126  3.113719   \n",
       "1  2.301630  ...       NaN       NaN  0.598896    AF       NaN       NaN   \n",
       "2  0.019645  ...  9.333333  2.477596  0.013452    AE  1.773709  3.922193   \n",
       "3  0.171947  ...  7.018256  1.812795  0.002267    CJ  1.415230  2.954381   \n",
       "4       NaN  ...       NaN       NaN       NaN     Z       NaN       NaN   \n",
       "\n",
       "       v128  v129      v130      v131  \n",
       "0  2.024285     0  0.636365  2.857144  \n",
       "1  1.957825     0       NaN       NaN  \n",
       "2  1.120468     2  0.883118  1.176472  \n",
       "3  1.990847     1  1.677108  1.034483  \n",
       "4       NaN     0       NaN       NaN  \n",
       "\n",
       "[5 rows x 133 columns]"
      ]
     },
     "execution_count": 3,
     "metadata": {},
     "output_type": "execute_result"
    }
   ],
   "source": [
    "df.head()"
   ]
  },
  {
   "cell_type": "code",
   "execution_count": 4,
   "metadata": {},
   "outputs": [
    {
     "name": "stdout",
     "output_type": "stream",
     "text": [
      "<class 'pandas.core.frame.DataFrame'>\n",
      "RangeIndex: 114321 entries, 0 to 114320\n",
      "Columns: 133 entries, ID to v131\n",
      "dtypes: float64(108), int64(6), object(19)\n",
      "memory usage: 116.0+ MB\n"
     ]
    }
   ],
   "source": [
    "df.info()"
   ]
  },
  {
   "cell_type": "code",
   "execution_count": 5,
   "metadata": {},
   "outputs": [
    {
     "data": {
      "text/html": [
       "<div>\n",
       "<style scoped>\n",
       "    .dataframe tbody tr th:only-of-type {\n",
       "        vertical-align: middle;\n",
       "    }\n",
       "\n",
       "    .dataframe tbody tr th {\n",
       "        vertical-align: top;\n",
       "    }\n",
       "\n",
       "    .dataframe thead th {\n",
       "        text-align: right;\n",
       "    }\n",
       "</style>\n",
       "<table border=\"1\" class=\"dataframe\">\n",
       "  <thead>\n",
       "    <tr style=\"text-align: right;\">\n",
       "      <th></th>\n",
       "      <th>ID</th>\n",
       "      <th>target</th>\n",
       "      <th>v1</th>\n",
       "      <th>v2</th>\n",
       "      <th>v4</th>\n",
       "      <th>v5</th>\n",
       "      <th>v6</th>\n",
       "      <th>v7</th>\n",
       "      <th>v8</th>\n",
       "      <th>v9</th>\n",
       "      <th>...</th>\n",
       "      <th>v121</th>\n",
       "      <th>v122</th>\n",
       "      <th>v123</th>\n",
       "      <th>v124</th>\n",
       "      <th>v126</th>\n",
       "      <th>v127</th>\n",
       "      <th>v128</th>\n",
       "      <th>v129</th>\n",
       "      <th>v130</th>\n",
       "      <th>v131</th>\n",
       "    </tr>\n",
       "  </thead>\n",
       "  <tbody>\n",
       "    <tr>\n",
       "      <th>count</th>\n",
       "      <td>114321.000000</td>\n",
       "      <td>114321.000000</td>\n",
       "      <td>6.448900e+04</td>\n",
       "      <td>6.452500e+04</td>\n",
       "      <td>6.452500e+04</td>\n",
       "      <td>6.569700e+04</td>\n",
       "      <td>6.448900e+04</td>\n",
       "      <td>6.448900e+04</td>\n",
       "      <td>6.570200e+04</td>\n",
       "      <td>6.447000e+04</td>\n",
       "      <td>...</td>\n",
       "      <td>6.448100e+04</td>\n",
       "      <td>6.447000e+04</td>\n",
       "      <td>63643.000000</td>\n",
       "      <td>6.570200e+04</td>\n",
       "      <td>6.448900e+04</td>\n",
       "      <td>6.448900e+04</td>\n",
       "      <td>6.569700e+04</td>\n",
       "      <td>114321.000000</td>\n",
       "      <td>6.447800e+04</td>\n",
       "      <td>6.442600e+04</td>\n",
       "    </tr>\n",
       "    <tr>\n",
       "      <th>mean</th>\n",
       "      <td>114228.928228</td>\n",
       "      <td>0.761199</td>\n",
       "      <td>1.630686e+00</td>\n",
       "      <td>7.464411e+00</td>\n",
       "      <td>4.145098e+00</td>\n",
       "      <td>8.742359e+00</td>\n",
       "      <td>2.436402e+00</td>\n",
       "      <td>2.483921e+00</td>\n",
       "      <td>1.496569e+00</td>\n",
       "      <td>9.031859e+00</td>\n",
       "      <td>...</td>\n",
       "      <td>2.737596e+00</td>\n",
       "      <td>6.822439e+00</td>\n",
       "      <td>3.549938</td>\n",
       "      <td>9.198120e-01</td>\n",
       "      <td>1.672658e+00</td>\n",
       "      <td>3.239542e+00</td>\n",
       "      <td>2.030373e+00</td>\n",
       "      <td>0.310144</td>\n",
       "      <td>1.925763e+00</td>\n",
       "      <td>1.739389e+00</td>\n",
       "    </tr>\n",
       "    <tr>\n",
       "      <th>std</th>\n",
       "      <td>65934.487362</td>\n",
       "      <td>0.426353</td>\n",
       "      <td>1.082813e+00</td>\n",
       "      <td>2.961676e+00</td>\n",
       "      <td>1.148263e+00</td>\n",
       "      <td>2.036018e+00</td>\n",
       "      <td>5.999653e-01</td>\n",
       "      <td>5.894485e-01</td>\n",
       "      <td>2.783003e+00</td>\n",
       "      <td>1.930262e+00</td>\n",
       "      <td>...</td>\n",
       "      <td>1.356294e+00</td>\n",
       "      <td>1.795978e+00</td>\n",
       "      <td>2.604704</td>\n",
       "      <td>2.099407e+00</td>\n",
       "      <td>5.031683e-01</td>\n",
       "      <td>1.625988e+00</td>\n",
       "      <td>1.074232e+00</td>\n",
       "      <td>0.693262</td>\n",
       "      <td>1.264497e+00</td>\n",
       "      <td>1.134702e+00</td>\n",
       "    </tr>\n",
       "    <tr>\n",
       "      <th>min</th>\n",
       "      <td>3.000000</td>\n",
       "      <td>0.000000</td>\n",
       "      <td>-9.996497e-07</td>\n",
       "      <td>-9.817614e-07</td>\n",
       "      <td>-6.475929e-07</td>\n",
       "      <td>-5.287068e-07</td>\n",
       "      <td>-9.055091e-07</td>\n",
       "      <td>-9.468765e-07</td>\n",
       "      <td>-7.783778e-07</td>\n",
       "      <td>-9.828757e-07</td>\n",
       "      <td>...</td>\n",
       "      <td>-9.820642e-07</td>\n",
       "      <td>-9.978497e-07</td>\n",
       "      <td>0.019139</td>\n",
       "      <td>-9.994953e-07</td>\n",
       "      <td>-9.564174e-07</td>\n",
       "      <td>-9.223798e-07</td>\n",
       "      <td>8.197812e-07</td>\n",
       "      <td>0.000000</td>\n",
       "      <td>-9.901257e-07</td>\n",
       "      <td>-9.999134e-07</td>\n",
       "    </tr>\n",
       "    <tr>\n",
       "      <th>25%</th>\n",
       "      <td>57280.000000</td>\n",
       "      <td>1.000000</td>\n",
       "      <td>9.135798e-01</td>\n",
       "      <td>5.316428e+00</td>\n",
       "      <td>3.487398e+00</td>\n",
       "      <td>7.605918e+00</td>\n",
       "      <td>2.065064e+00</td>\n",
       "      <td>2.101477e+00</td>\n",
       "      <td>8.658986e-02</td>\n",
       "      <td>7.853659e+00</td>\n",
       "      <td>...</td>\n",
       "      <td>1.786965e+00</td>\n",
       "      <td>5.647712e+00</td>\n",
       "      <td>1.963315</td>\n",
       "      <td>2.053777e-02</td>\n",
       "      <td>1.417600e+00</td>\n",
       "      <td>2.101900e+00</td>\n",
       "      <td>1.393830e+00</td>\n",
       "      <td>0.000000</td>\n",
       "      <td>1.106172e+00</td>\n",
       "      <td>1.012658e+00</td>\n",
       "    </tr>\n",
       "    <tr>\n",
       "      <th>50%</th>\n",
       "      <td>114189.000000</td>\n",
       "      <td>1.000000</td>\n",
       "      <td>1.469550e+00</td>\n",
       "      <td>7.023803e+00</td>\n",
       "      <td>4.205991e+00</td>\n",
       "      <td>8.670867e+00</td>\n",
       "      <td>2.412790e+00</td>\n",
       "      <td>2.452166e+00</td>\n",
       "      <td>3.860317e-01</td>\n",
       "      <td>9.059582e+00</td>\n",
       "      <td>...</td>\n",
       "      <td>2.436195e+00</td>\n",
       "      <td>6.749117e+00</td>\n",
       "      <td>2.739239</td>\n",
       "      <td>1.398639e-01</td>\n",
       "      <td>1.614802e+00</td>\n",
       "      <td>2.963620e+00</td>\n",
       "      <td>1.798436e+00</td>\n",
       "      <td>0.000000</td>\n",
       "      <td>1.560138e+00</td>\n",
       "      <td>1.589403e+00</td>\n",
       "    </tr>\n",
       "    <tr>\n",
       "      <th>75%</th>\n",
       "      <td>171206.000000</td>\n",
       "      <td>1.000000</td>\n",
       "      <td>2.136128e+00</td>\n",
       "      <td>9.465497e+00</td>\n",
       "      <td>4.833250e+00</td>\n",
       "      <td>9.771353e+00</td>\n",
       "      <td>2.775285e+00</td>\n",
       "      <td>2.834285e+00</td>\n",
       "      <td>1.625246e+00</td>\n",
       "      <td>1.023256e+01</td>\n",
       "      <td>...</td>\n",
       "      <td>3.379175e+00</td>\n",
       "      <td>7.911392e+00</td>\n",
       "      <td>4.075361</td>\n",
       "      <td>8.718333e-01</td>\n",
       "      <td>1.843886e+00</td>\n",
       "      <td>4.108146e+00</td>\n",
       "      <td>2.390158e+00</td>\n",
       "      <td>0.000000</td>\n",
       "      <td>2.332425e+00</td>\n",
       "      <td>2.261905e+00</td>\n",
       "    </tr>\n",
       "    <tr>\n",
       "      <th>max</th>\n",
       "      <td>228713.000000</td>\n",
       "      <td>1.000000</td>\n",
       "      <td>2.000000e+01</td>\n",
       "      <td>2.000000e+01</td>\n",
       "      <td>2.000000e+01</td>\n",
       "      <td>2.000000e+01</td>\n",
       "      <td>2.000000e+01</td>\n",
       "      <td>2.000000e+01</td>\n",
       "      <td>2.000000e+01</td>\n",
       "      <td>2.000000e+01</td>\n",
       "      <td>...</td>\n",
       "      <td>2.000000e+01</td>\n",
       "      <td>2.000000e+01</td>\n",
       "      <td>19.686069</td>\n",
       "      <td>2.000000e+01</td>\n",
       "      <td>1.563161e+01</td>\n",
       "      <td>2.000000e+01</td>\n",
       "      <td>2.000000e+01</td>\n",
       "      <td>11.000000</td>\n",
       "      <td>2.000000e+01</td>\n",
       "      <td>2.000000e+01</td>\n",
       "    </tr>\n",
       "  </tbody>\n",
       "</table>\n",
       "<p>8 rows × 114 columns</p>\n",
       "</div>"
      ],
      "text/plain": [
       "                  ID         target            v1            v2            v4  \\\n",
       "count  114321.000000  114321.000000  6.448900e+04  6.452500e+04  6.452500e+04   \n",
       "mean   114228.928228       0.761199  1.630686e+00  7.464411e+00  4.145098e+00   \n",
       "std     65934.487362       0.426353  1.082813e+00  2.961676e+00  1.148263e+00   \n",
       "min         3.000000       0.000000 -9.996497e-07 -9.817614e-07 -6.475929e-07   \n",
       "25%     57280.000000       1.000000  9.135798e-01  5.316428e+00  3.487398e+00   \n",
       "50%    114189.000000       1.000000  1.469550e+00  7.023803e+00  4.205991e+00   \n",
       "75%    171206.000000       1.000000  2.136128e+00  9.465497e+00  4.833250e+00   \n",
       "max    228713.000000       1.000000  2.000000e+01  2.000000e+01  2.000000e+01   \n",
       "\n",
       "                 v5            v6            v7            v8            v9  \\\n",
       "count  6.569700e+04  6.448900e+04  6.448900e+04  6.570200e+04  6.447000e+04   \n",
       "mean   8.742359e+00  2.436402e+00  2.483921e+00  1.496569e+00  9.031859e+00   \n",
       "std    2.036018e+00  5.999653e-01  5.894485e-01  2.783003e+00  1.930262e+00   \n",
       "min   -5.287068e-07 -9.055091e-07 -9.468765e-07 -7.783778e-07 -9.828757e-07   \n",
       "25%    7.605918e+00  2.065064e+00  2.101477e+00  8.658986e-02  7.853659e+00   \n",
       "50%    8.670867e+00  2.412790e+00  2.452166e+00  3.860317e-01  9.059582e+00   \n",
       "75%    9.771353e+00  2.775285e+00  2.834285e+00  1.625246e+00  1.023256e+01   \n",
       "max    2.000000e+01  2.000000e+01  2.000000e+01  2.000000e+01  2.000000e+01   \n",
       "\n",
       "       ...          v121          v122          v123          v124  \\\n",
       "count  ...  6.448100e+04  6.447000e+04  63643.000000  6.570200e+04   \n",
       "mean   ...  2.737596e+00  6.822439e+00      3.549938  9.198120e-01   \n",
       "std    ...  1.356294e+00  1.795978e+00      2.604704  2.099407e+00   \n",
       "min    ... -9.820642e-07 -9.978497e-07      0.019139 -9.994953e-07   \n",
       "25%    ...  1.786965e+00  5.647712e+00      1.963315  2.053777e-02   \n",
       "50%    ...  2.436195e+00  6.749117e+00      2.739239  1.398639e-01   \n",
       "75%    ...  3.379175e+00  7.911392e+00      4.075361  8.718333e-01   \n",
       "max    ...  2.000000e+01  2.000000e+01     19.686069  2.000000e+01   \n",
       "\n",
       "               v126          v127          v128           v129          v130  \\\n",
       "count  6.448900e+04  6.448900e+04  6.569700e+04  114321.000000  6.447800e+04   \n",
       "mean   1.672658e+00  3.239542e+00  2.030373e+00       0.310144  1.925763e+00   \n",
       "std    5.031683e-01  1.625988e+00  1.074232e+00       0.693262  1.264497e+00   \n",
       "min   -9.564174e-07 -9.223798e-07  8.197812e-07       0.000000 -9.901257e-07   \n",
       "25%    1.417600e+00  2.101900e+00  1.393830e+00       0.000000  1.106172e+00   \n",
       "50%    1.614802e+00  2.963620e+00  1.798436e+00       0.000000  1.560138e+00   \n",
       "75%    1.843886e+00  4.108146e+00  2.390158e+00       0.000000  2.332425e+00   \n",
       "max    1.563161e+01  2.000000e+01  2.000000e+01      11.000000  2.000000e+01   \n",
       "\n",
       "               v131  \n",
       "count  6.442600e+04  \n",
       "mean   1.739389e+00  \n",
       "std    1.134702e+00  \n",
       "min   -9.999134e-07  \n",
       "25%    1.012658e+00  \n",
       "50%    1.589403e+00  \n",
       "75%    2.261905e+00  \n",
       "max    2.000000e+01  \n",
       "\n",
       "[8 rows x 114 columns]"
      ]
     },
     "execution_count": 5,
     "metadata": {},
     "output_type": "execute_result"
    }
   ],
   "source": [
    "# числовые признаки\n",
    "df.describe()"
   ]
  },
  {
   "cell_type": "code",
   "execution_count": 6,
   "metadata": {},
   "outputs": [
    {
     "data": {
      "text/html": [
       "<div>\n",
       "<style scoped>\n",
       "    .dataframe tbody tr th:only-of-type {\n",
       "        vertical-align: middle;\n",
       "    }\n",
       "\n",
       "    .dataframe tbody tr th {\n",
       "        vertical-align: top;\n",
       "    }\n",
       "\n",
       "    .dataframe thead th {\n",
       "        text-align: right;\n",
       "    }\n",
       "</style>\n",
       "<table border=\"1\" class=\"dataframe\">\n",
       "  <thead>\n",
       "    <tr style=\"text-align: right;\">\n",
       "      <th></th>\n",
       "      <th>v3</th>\n",
       "      <th>v22</th>\n",
       "      <th>v24</th>\n",
       "      <th>v30</th>\n",
       "      <th>v31</th>\n",
       "      <th>v47</th>\n",
       "      <th>v52</th>\n",
       "      <th>v56</th>\n",
       "      <th>v66</th>\n",
       "      <th>v71</th>\n",
       "      <th>v74</th>\n",
       "      <th>v75</th>\n",
       "      <th>v79</th>\n",
       "      <th>v91</th>\n",
       "      <th>v107</th>\n",
       "      <th>v110</th>\n",
       "      <th>v112</th>\n",
       "      <th>v113</th>\n",
       "      <th>v125</th>\n",
       "    </tr>\n",
       "  </thead>\n",
       "  <tbody>\n",
       "    <tr>\n",
       "      <th>count</th>\n",
       "      <td>110864</td>\n",
       "      <td>113821</td>\n",
       "      <td>114321</td>\n",
       "      <td>54211</td>\n",
       "      <td>110864</td>\n",
       "      <td>114321</td>\n",
       "      <td>114318</td>\n",
       "      <td>107439</td>\n",
       "      <td>114321</td>\n",
       "      <td>114321</td>\n",
       "      <td>114321</td>\n",
       "      <td>114321</td>\n",
       "      <td>114321</td>\n",
       "      <td>114318</td>\n",
       "      <td>114318</td>\n",
       "      <td>114321</td>\n",
       "      <td>113939</td>\n",
       "      <td>59017</td>\n",
       "      <td>114244</td>\n",
       "    </tr>\n",
       "    <tr>\n",
       "      <th>unique</th>\n",
       "      <td>3</td>\n",
       "      <td>18210</td>\n",
       "      <td>5</td>\n",
       "      <td>7</td>\n",
       "      <td>3</td>\n",
       "      <td>10</td>\n",
       "      <td>12</td>\n",
       "      <td>122</td>\n",
       "      <td>3</td>\n",
       "      <td>9</td>\n",
       "      <td>3</td>\n",
       "      <td>4</td>\n",
       "      <td>18</td>\n",
       "      <td>7</td>\n",
       "      <td>7</td>\n",
       "      <td>3</td>\n",
       "      <td>22</td>\n",
       "      <td>36</td>\n",
       "      <td>90</td>\n",
       "    </tr>\n",
       "    <tr>\n",
       "      <th>top</th>\n",
       "      <td>C</td>\n",
       "      <td>AGDF</td>\n",
       "      <td>E</td>\n",
       "      <td>C</td>\n",
       "      <td>A</td>\n",
       "      <td>C</td>\n",
       "      <td>J</td>\n",
       "      <td>BW</td>\n",
       "      <td>A</td>\n",
       "      <td>F</td>\n",
       "      <td>B</td>\n",
       "      <td>D</td>\n",
       "      <td>C</td>\n",
       "      <td>A</td>\n",
       "      <td>E</td>\n",
       "      <td>A</td>\n",
       "      <td>F</td>\n",
       "      <td>G</td>\n",
       "      <td>BM</td>\n",
       "    </tr>\n",
       "    <tr>\n",
       "      <th>freq</th>\n",
       "      <td>110584</td>\n",
       "      <td>2386</td>\n",
       "      <td>55177</td>\n",
       "      <td>32178</td>\n",
       "      <td>88347</td>\n",
       "      <td>55425</td>\n",
       "      <td>11103</td>\n",
       "      <td>11351</td>\n",
       "      <td>70353</td>\n",
       "      <td>75094</td>\n",
       "      <td>113560</td>\n",
       "      <td>75087</td>\n",
       "      <td>34561</td>\n",
       "      <td>27079</td>\n",
       "      <td>27079</td>\n",
       "      <td>55688</td>\n",
       "      <td>21671</td>\n",
       "      <td>16252</td>\n",
       "      <td>5759</td>\n",
       "    </tr>\n",
       "  </tbody>\n",
       "</table>\n",
       "</div>"
      ],
      "text/plain": [
       "            v3     v22     v24    v30     v31     v47     v52     v56     v66  \\\n",
       "count   110864  113821  114321  54211  110864  114321  114318  107439  114321   \n",
       "unique       3   18210       5      7       3      10      12     122       3   \n",
       "top          C    AGDF       E      C       A       C       J      BW       A   \n",
       "freq    110584    2386   55177  32178   88347   55425   11103   11351   70353   \n",
       "\n",
       "           v71     v74     v75     v79     v91    v107    v110    v112   v113  \\\n",
       "count   114321  114321  114321  114321  114318  114318  114321  113939  59017   \n",
       "unique       9       3       4      18       7       7       3      22     36   \n",
       "top          F       B       D       C       A       E       A       F      G   \n",
       "freq     75094  113560   75087   34561   27079   27079   55688   21671  16252   \n",
       "\n",
       "          v125  \n",
       "count   114244  \n",
       "unique      90  \n",
       "top         BM  \n",
       "freq      5759  "
      ]
     },
     "execution_count": 6,
     "metadata": {},
     "output_type": "execute_result"
    }
   ],
   "source": [
    "# категориальные признаки\n",
    "df.describe(include=['object'])"
   ]
  },
  {
   "cell_type": "code",
   "execution_count": 7,
   "metadata": {},
   "outputs": [
    {
     "data": {
      "image/png": "[encoded data removed]",
      "text/plain": [
       "<Figure size 432x288 with 1 Axes>"
      ]
     },
     "metadata": {
      "needs_background": "light"
     },
     "output_type": "display_data"
    }
   ],
   "source": [
    "# целевая переменная несбалансированная, но не критично\n",
    "df.target.hist(bins=3)\n",
    "plt.show()"
   ]
  },
  {
   "cell_type": "code",
   "execution_count": 8,
   "metadata": {
    "scrolled": true
   },
   "outputs": [
    {
     "data": {
      "text/plain": [
       "v30       60110\n",
       "v113      55304\n",
       "v102      51316\n",
       "v85       50682\n",
       "v119      50680\n",
       "          ...  \n",
       "v75           0\n",
       "v79           0\n",
       "v110          0\n",
       "target        0\n",
       "ID            0\n",
       "Length: 133, dtype: int64"
      ]
     },
     "execution_count": 8,
     "metadata": {},
     "output_type": "execute_result"
    }
   ],
   "source": [
    "# большое количество пропусков\n",
    "df.isnull().sum().sort_values(ascending=False)"
   ]
  },
  {
   "cell_type": "code",
   "execution_count": 9,
   "metadata": {},
   "outputs": [],
   "source": [
    "# удалим сильно коррелированные между собой признаки >=0.9\n",
    "Corr = df.drop(columns=['target', 'ID']).corr()\n",
    "CorField = list(combinations(Corr.columns, 2))\n",
    "corr_pair = [(i[0], i[1], Corr.loc[i]) for i in CorField if abs(Corr.loc[i]) >= 0.9]\n",
    "counter = Counter([i[0] for i in corr_pair]) + Counter([i[1] for i in corr_pair])\n",
    "feature_remove = set([i[0] if counter[i[0]] >= counter[i[1]] else i[1] for i in corr_pair ])\n",
    "feature  = list(set(df.columns) - feature_remove) \n",
    "df = df[feature]"
   ]
  },
  {
   "cell_type": "code",
   "execution_count": 10,
   "metadata": {},
   "outputs": [
    {
     "data": {
      "text/plain": [
       "[]"
      ]
     },
     "execution_count": 10,
     "metadata": {},
     "output_type": "execute_result"
    }
   ],
   "source": [
    "# проверим, что их больше не осталось >=0.9\n",
    "Corr = df.drop(columns=['target']).corr()\n",
    "CorField = list(combinations(Corr.columns, 2))\n",
    "corr_pair = [(i[0], i[1], Corr.loc[i]) for i in CorField if abs(Corr.loc[i]) >= 0.9]\n",
    "corr_pair"
   ]
  },
  {
   "cell_type": "code",
   "execution_count": 11,
   "metadata": {},
   "outputs": [],
   "source": [
    "# функция для отеделения числовых признаков\n",
    "def num(data):\n",
    "    numerics = ['int16', 'int32', 'int64', 'float16', 'float32', 'float64']\n",
    "    try:\n",
    "        return data.select_dtypes(include=numerics).drop(['ID','target'], axis=1)\n",
    "    except KeyError:\n",
    "        return data.select_dtypes(include=numerics).drop(['ID'], axis=1)\n",
    "\n",
    "# функция для отделения категориальных признаков\n",
    "def obj(data):\n",
    "    category = ['object']\n",
    "     # удалим переменную 'v22' с большим количеством категорий\n",
    "    return data.select_dtypes(include=category).fillna(\"na\").drop(['v22'], axis=1)\n",
    "    \n",
    "# функция для замены NaN на ноль, среднее значение или медиану\n",
    "def emp(data, emp = \"zero\"):\n",
    "    if emp == \"zero\":\n",
    "        fill = 0\n",
    "    elif emp == \"ave\":\n",
    "        fill = data.mean()\n",
    "    elif emp == 'med':\n",
    "        fill = data.median()\n",
    "    return data.fillna(fill)"
   ]
  },
  {
   "cell_type": "code",
   "execution_count": 12,
   "metadata": {
    "scrolled": true
   },
   "outputs": [
    {
     "data": {
      "text/plain": [
       "(114321, 82)"
      ]
     },
     "execution_count": 12,
     "metadata": {},
     "output_type": "execute_result"
    }
   ],
   "source": [
    "# собираем pipeline для преобразований признаков, добавляем нормализатор числовых признаков\n",
    "# числовые признаки:\n",
    "numerical_selector = FunctionTransformer(num, validate=False)\n",
    "empty = FunctionTransformer(emp, validate=False)\n",
    "scaler = StandardScaler() \n",
    "\n",
    "numerical_features_scaler = Pipeline([\n",
    "    (\"numerical_selector\", numerical_selector),\n",
    "    (\"empty\", empty),\n",
    "    ('scaler', scaler)\n",
    "])\n",
    "numerical_features_scaler.fit_transform(df).shape"
   ]
  },
  {
   "cell_type": "code",
   "execution_count": 13,
   "metadata": {
    "scrolled": true
   },
   "outputs": [
    {
     "data": {
      "text/plain": [
       "(114321, 374)"
      ]
     },
     "execution_count": 13,
     "metadata": {},
     "output_type": "execute_result"
    }
   ],
   "source": [
    "# категориальные признаки:\n",
    "category_selector = FunctionTransformer(obj, validate=False)\n",
    "one_hot = OneHotEncoder(handle_unknown='ignore', sparse=False)\n",
    "\n",
    "category_features_onehot = Pipeline([\n",
    "    (\"category_selector\", category_selector),\n",
    "    (\"one_hot\", one_hot)\n",
    "])\n",
    "category_features_onehot.fit_transform(df).shape"
   ]
  },
  {
   "cell_type": "code",
   "execution_count": 14,
   "metadata": {
    "scrolled": true
   },
   "outputs": [
    {
     "data": {
      "text/plain": [
       "(114321, 456)"
      ]
     },
     "execution_count": 14,
     "metadata": {},
     "output_type": "execute_result"
    }
   ],
   "source": [
    "# соединяем признаки:\n",
    "preprocessing_pipeline = FeatureUnion([\n",
    "    (\"numerical\", numerical_features_scaler),\n",
    "    (\"categorical\", category_features_onehot)  \n",
    "])\n",
    "preprocessing_pipeline.fit_transform(df).shape"
   ]
  },
  {
   "cell_type": "markdown",
   "metadata": {},
   "source": [
    "## Проверим качество работы алгоритмов на метрика f1"
   ]
  },
  {
   "cell_type": "code",
   "execution_count": 15,
   "metadata": {},
   "outputs": [
    {
     "data": {
      "text/plain": [
       "dict_keys(['memory', 'steps', 'verbose', 'preprocessing', 'kbest', 'modelling', 'preprocessing__n_jobs', 'preprocessing__transformer_list', 'preprocessing__transformer_weights', 'preprocessing__verbose', 'preprocessing__numerical', 'preprocessing__categorical', 'preprocessing__numerical__memory', 'preprocessing__numerical__steps', 'preprocessing__numerical__verbose', 'preprocessing__numerical__numerical_selector', 'preprocessing__numerical__empty', 'preprocessing__numerical__scaler', 'preprocessing__numerical__numerical_selector__accept_sparse', 'preprocessing__numerical__numerical_selector__check_inverse', 'preprocessing__numerical__numerical_selector__func', 'preprocessing__numerical__numerical_selector__inv_kw_args', 'preprocessing__numerical__numerical_selector__inverse_func', 'preprocessing__numerical__numerical_selector__kw_args', 'preprocessing__numerical__numerical_selector__validate', 'preprocessing__numerical__empty__accept_sparse', 'preprocessing__numerical__empty__check_inverse', 'preprocessing__numerical__empty__func', 'preprocessing__numerical__empty__inv_kw_args', 'preprocessing__numerical__empty__inverse_func', 'preprocessing__numerical__empty__kw_args', 'preprocessing__numerical__empty__validate', 'preprocessing__numerical__scaler__copy', 'preprocessing__numerical__scaler__with_mean', 'preprocessing__numerical__scaler__with_std', 'preprocessing__categorical__memory', 'preprocessing__categorical__steps', 'preprocessing__categorical__verbose', 'preprocessing__categorical__category_selector', 'preprocessing__categorical__one_hot', 'preprocessing__categorical__category_selector__accept_sparse', 'preprocessing__categorical__category_selector__check_inverse', 'preprocessing__categorical__category_selector__func', 'preprocessing__categorical__category_selector__inv_kw_args', 'preprocessing__categorical__category_selector__inverse_func', 'preprocessing__categorical__category_selector__kw_args', 'preprocessing__categorical__category_selector__validate', 'preprocessing__categorical__one_hot__categories', 'preprocessing__categorical__one_hot__drop', 'preprocessing__categorical__one_hot__dtype', 'preprocessing__categorical__one_hot__handle_unknown', 'preprocessing__categorical__one_hot__sparse', 'kbest__k', 'kbest__score_func', 'modelling__C', 'modelling__class_weight', 'modelling__dual', 'modelling__fit_intercept', 'modelling__intercept_scaling', 'modelling__l1_ratio', 'modelling__max_iter', 'modelling__multi_class', 'modelling__n_jobs', 'modelling__penalty', 'modelling__random_state', 'modelling__solver', 'modelling__tol', 'modelling__verbose', 'modelling__warm_start'])"
      ]
     },
     "execution_count": 15,
     "metadata": {},
     "output_type": "execute_result"
    }
   ],
   "source": [
    "# добавляем в pipeline лог. регрессию и выберем 10 самых важных признаков,\n",
    "# поскольку на SVM будут очень долго отбираться лучшие параметры. ставим все алгоритмы в равные условия по признакам.\n",
    "kbest = SelectKBest()\n",
    "log_reg = LogisticRegression()\n",
    "pipe_log = Pipeline([\n",
    "    (\"preprocessing\", preprocessing_pipeline),\n",
    "    ('kbest', kbest),\n",
    "    (\"modelling\", log_reg)\n",
    "])\n",
    "# посмотрим какие параметры можем перебрать на сетке\n",
    "pipe_log.get_params().keys()"
   ]
  },
  {
   "cell_type": "code",
   "execution_count": 16,
   "metadata": {},
   "outputs": [
    {
     "name": "stdout",
     "output_type": "stream",
     "text": [
      "Wall time: 4min 22s\n"
     ]
    }
   ],
   "source": [
    "%%time\n",
    "param_grid = {\n",
    "    'modelling__penalty': ['l1', 'l2'],\n",
    "    'modelling__C': np.logspace(-2, 1, 10),\n",
    "    'modelling__class_weight':['balanced'],\n",
    "    'preprocessing__numerical__empty__kw_args': [{'emp':'ave'}, {'emp':'zero'}, {'emp':'med'}]\n",
    "}\n",
    "search_log = GridSearchCV(pipe_log, param_grid, cv=5, scoring='f1', n_jobs=-1)\n",
    "search_log.fit(df, df['target'])"
   ]
  },
  {
   "cell_type": "code",
   "execution_count": 17,
   "metadata": {},
   "outputs": [
    {
     "data": {
      "text/plain": [
       "{'modelling__C': 0.01,\n",
       " 'modelling__class_weight': 'balanced',\n",
       " 'modelling__penalty': 'l2',\n",
       " 'preprocessing__numerical__empty__kw_args': {'emp': 'ave'}}"
      ]
     },
     "execution_count": 17,
     "metadata": {},
     "output_type": "execute_result"
    }
   ],
   "source": [
    "# лучшие параметры модели\n",
    "search_log.best_params_"
   ]
  },
  {
   "cell_type": "code",
   "execution_count": 18,
   "metadata": {
    "scrolled": true
   },
   "outputs": [
    {
     "data": {
      "text/plain": [
       "0.6923332268757638"
      ]
     },
     "execution_count": 18,
     "metadata": {},
     "output_type": "execute_result"
    }
   ],
   "source": [
    "# лучшая f1 метрика лог. регрессии\n",
    "search_log.best_score_"
   ]
  },
  {
   "cell_type": "code",
   "execution_count": 19,
   "metadata": {},
   "outputs": [
    {
     "data": {
      "text/plain": [
       "dict_keys(['memory', 'steps', 'verbose', 'preprocessing', 'kbest', 'modelling', 'preprocessing__n_jobs', 'preprocessing__transformer_list', 'preprocessing__transformer_weights', 'preprocessing__verbose', 'preprocessing__numerical', 'preprocessing__categorical', 'preprocessing__numerical__memory', 'preprocessing__numerical__steps', 'preprocessing__numerical__verbose', 'preprocessing__numerical__numerical_selector', 'preprocessing__numerical__empty', 'preprocessing__numerical__scaler', 'preprocessing__numerical__numerical_selector__accept_sparse', 'preprocessing__numerical__numerical_selector__check_inverse', 'preprocessing__numerical__numerical_selector__func', 'preprocessing__numerical__numerical_selector__inv_kw_args', 'preprocessing__numerical__numerical_selector__inverse_func', 'preprocessing__numerical__numerical_selector__kw_args', 'preprocessing__numerical__numerical_selector__validate', 'preprocessing__numerical__empty__accept_sparse', 'preprocessing__numerical__empty__check_inverse', 'preprocessing__numerical__empty__func', 'preprocessing__numerical__empty__inv_kw_args', 'preprocessing__numerical__empty__inverse_func', 'preprocessing__numerical__empty__kw_args', 'preprocessing__numerical__empty__validate', 'preprocessing__numerical__scaler__copy', 'preprocessing__numerical__scaler__with_mean', 'preprocessing__numerical__scaler__with_std', 'preprocessing__categorical__memory', 'preprocessing__categorical__steps', 'preprocessing__categorical__verbose', 'preprocessing__categorical__category_selector', 'preprocessing__categorical__one_hot', 'preprocessing__categorical__category_selector__accept_sparse', 'preprocessing__categorical__category_selector__check_inverse', 'preprocessing__categorical__category_selector__func', 'preprocessing__categorical__category_selector__inv_kw_args', 'preprocessing__categorical__category_selector__inverse_func', 'preprocessing__categorical__category_selector__kw_args', 'preprocessing__categorical__category_selector__validate', 'preprocessing__categorical__one_hot__categories', 'preprocessing__categorical__one_hot__drop', 'preprocessing__categorical__one_hot__dtype', 'preprocessing__categorical__one_hot__handle_unknown', 'preprocessing__categorical__one_hot__sparse', 'kbest__k', 'kbest__score_func', 'modelling__algorithm', 'modelling__leaf_size', 'modelling__metric', 'modelling__metric_params', 'modelling__n_jobs', 'modelling__n_neighbors', 'modelling__p', 'modelling__weights'])"
      ]
     },
     "execution_count": 19,
     "metadata": {},
     "output_type": "execute_result"
    }
   ],
   "source": [
    "# собираем pipeline с KNN алгоритмом\n",
    "kbest = SelectKBest()\n",
    "knn = KNeighborsClassifier()\n",
    "pipe_knn = Pipeline([\n",
    "    (\"preprocessing\", preprocessing_pipeline),\n",
    "    ('kbest', kbest),\n",
    "    (\"modelling\", knn)\n",
    "])\n",
    "# параметры\n",
    "pipe_knn.get_params().keys()"
   ]
  },
  {
   "cell_type": "code",
   "execution_count": 20,
   "metadata": {},
   "outputs": [
    {
     "name": "stdout",
     "output_type": "stream",
     "text": [
      "Wall time: 5min 31s\n"
     ]
    }
   ],
   "source": [
    "%%time\n",
    "param_grid = {\n",
    "    'modelling__n_neighbors': range(2, 51),\n",
    "    'modelling__metric': ['euclidean', 'manhattan', 'minkowski', 'wminkowski'],\n",
    "    'preprocessing__numerical__empty__kw_args': [{'emp':'ave'}, {'emp':'zero'}, {'emp':'med'}]\n",
    "}\n",
    "search_knn = RandomizedSearchCV(pipe_knn, param_grid, cv=5, scoring='f1')\n",
    "search_knn.fit(df, df['target'])"
   ]
  },
  {
   "cell_type": "code",
   "execution_count": 21,
   "metadata": {},
   "outputs": [
    {
     "data": {
      "text/plain": [
       "{'preprocessing__numerical__empty__kw_args': {'emp': 'zero'},\n",
       " 'modelling__n_neighbors': 47,\n",
       " 'modelling__metric': 'minkowski'}"
      ]
     },
     "execution_count": 21,
     "metadata": {},
     "output_type": "execute_result"
    }
   ],
   "source": [
    "# лучшие параметры модели KNN\n",
    "search_knn.best_params_"
   ]
  },
  {
   "cell_type": "code",
   "execution_count": 22,
   "metadata": {},
   "outputs": [
    {
     "data": {
      "text/plain": [
       "0.8617176819960506"
      ]
     },
     "execution_count": 22,
     "metadata": {},
     "output_type": "execute_result"
    }
   ],
   "source": [
    "# лучшая f1 метрика KNN алгоритма\n",
    "search_knn.best_score_"
   ]
  },
  {
   "cell_type": "code",
   "execution_count": 23,
   "metadata": {},
   "outputs": [
    {
     "data": {
      "text/plain": [
       "dict_keys(['memory', 'steps', 'verbose', 'preprocessing', 'kbest', 'modelling', 'preprocessing__n_jobs', 'preprocessing__transformer_list', 'preprocessing__transformer_weights', 'preprocessing__verbose', 'preprocessing__numerical', 'preprocessing__categorical', 'preprocessing__numerical__memory', 'preprocessing__numerical__steps', 'preprocessing__numerical__verbose', 'preprocessing__numerical__numerical_selector', 'preprocessing__numerical__empty', 'preprocessing__numerical__scaler', 'preprocessing__numerical__numerical_selector__accept_sparse', 'preprocessing__numerical__numerical_selector__check_inverse', 'preprocessing__numerical__numerical_selector__func', 'preprocessing__numerical__numerical_selector__inv_kw_args', 'preprocessing__numerical__numerical_selector__inverse_func', 'preprocessing__numerical__numerical_selector__kw_args', 'preprocessing__numerical__numerical_selector__validate', 'preprocessing__numerical__empty__accept_sparse', 'preprocessing__numerical__empty__check_inverse', 'preprocessing__numerical__empty__func', 'preprocessing__numerical__empty__inv_kw_args', 'preprocessing__numerical__empty__inverse_func', 'preprocessing__numerical__empty__kw_args', 'preprocessing__numerical__empty__validate', 'preprocessing__numerical__scaler__copy', 'preprocessing__numerical__scaler__with_mean', 'preprocessing__numerical__scaler__with_std', 'preprocessing__categorical__memory', 'preprocessing__categorical__steps', 'preprocessing__categorical__verbose', 'preprocessing__categorical__category_selector', 'preprocessing__categorical__one_hot', 'preprocessing__categorical__category_selector__accept_sparse', 'preprocessing__categorical__category_selector__check_inverse', 'preprocessing__categorical__category_selector__func', 'preprocessing__categorical__category_selector__inv_kw_args', 'preprocessing__categorical__category_selector__inverse_func', 'preprocessing__categorical__category_selector__kw_args', 'preprocessing__categorical__category_selector__validate', 'preprocessing__categorical__one_hot__categories', 'preprocessing__categorical__one_hot__drop', 'preprocessing__categorical__one_hot__dtype', 'preprocessing__categorical__one_hot__handle_unknown', 'preprocessing__categorical__one_hot__sparse', 'kbest__k', 'kbest__score_func', 'modelling__C', 'modelling__break_ties', 'modelling__cache_size', 'modelling__class_weight', 'modelling__coef0', 'modelling__decision_function_shape', 'modelling__degree', 'modelling__gamma', 'modelling__kernel', 'modelling__max_iter', 'modelling__probability', 'modelling__random_state', 'modelling__shrinking', 'modelling__tol', 'modelling__verbose'])"
      ]
     },
     "execution_count": 23,
     "metadata": {},
     "output_type": "execute_result"
    }
   ],
   "source": [
    "kbest = SelectKBest()\n",
    "svc = SVC()\n",
    "pipe_svc = Pipeline([\n",
    "    (\"preprocessing\", preprocessing_pipeline),\n",
    "    ('kbest', kbest),\n",
    "    (\"modelling\", svc),\n",
    "])\n",
    "\n",
    "pipe_svc.get_params().keys()"
   ]
  },
  {
   "cell_type": "code",
   "execution_count": 24,
   "metadata": {},
   "outputs": [
    {
     "name": "stdout",
     "output_type": "stream",
     "text": [
      "Wall time: 6h 12min 19s\n"
     ]
    }
   ],
   "source": [
    "%%time\n",
    "param_grid = {\n",
    "    'modelling__kernel': ['linear', 'poly', 'rbf', 'sigmoid'],\n",
    "    'modelling__C': np.logspace(-2, 1, 10),\n",
    "    'preprocessing__numerical__empty__kw_args': [{'emp':'ave'}, {'emp':'zero'}, {'emp':'med'}]\n",
    "}\n",
    "search_svc = RandomizedSearchCV(pipe_svc, param_grid, cv=5, scoring='f1', n_jobs=-1)\n",
    "search_svc.fit(df, df['target'])"
   ]
  },
  {
   "cell_type": "code",
   "execution_count": 25,
   "metadata": {},
   "outputs": [
    {
     "data": {
      "text/plain": [
       "{'preprocessing__numerical__empty__kw_args': {'emp': 'zero'},\n",
       " 'modelling__kernel': 'linear',\n",
       " 'modelling__C': 1.0}"
      ]
     },
     "execution_count": 25,
     "metadata": {},
     "output_type": "execute_result"
    }
   ],
   "source": [
    "# лучшие параметры модели SVC\n",
    "search_svc.best_params_"
   ]
  },
  {
   "cell_type": "code",
   "execution_count": 26,
   "metadata": {},
   "outputs": [
    {
     "data": {
      "text/plain": [
       "0.8644098101202203"
      ]
     },
     "execution_count": 26,
     "metadata": {},
     "output_type": "execute_result"
    }
   ],
   "source": [
    "# лучшая f1 метрика SVC алгоритма\n",
    "search_svc.best_score_"
   ]
  },
  {
   "cell_type": "markdown",
   "metadata": {},
   "source": [
    "## Краткие этапы и выводы:"
   ]
  },
  {
   "cell_type": "markdown",
   "metadata": {},
   "source": [
    "###### 1) Был загружен train.csv. В test.csv нет целевой переменной 'target', поэтому все преобразования и метрики были в дальнейшем только на train."
   ]
  },
  {
   "cell_type": "markdown",
   "metadata": {},
   "source": [
    "###### 2) Целевая переменная не сбалансирована, но минорного класса достаточно для адекватной работы алгоритма.\n",
    "###### Кроме того, SVM обучается очень долго, поэтому повышать количество минорных объектов еще больше увеличит время его обучения."
   ]
  },
  {
   "cell_type": "markdown",
   "metadata": {},
   "source": [
    "###### 3) Достаточно много NaN, поэтому выбор чем их заменять может существенно повлиять на качество работы алгоритма.\n",
    "###### Решил функцию замены NaN добавить в pipeline для поиска лучшего варианта на сетке."
   ]
  },
  {
   "cell_type": "markdown",
   "metadata": {},
   "source": [
    "###### 4) Удалены сильно коррелированные числовые признаки >= 0,9"
   ]
  },
  {
   "cell_type": "markdown",
   "metadata": {},
   "source": [
    "###### 5) Числовые и категориальные признаки были разделены и далее объединены через pipeline.\n",
    "###### Числовые нормализованы - StandardScaler, категориальные бинарно закодированы  - OneHotEncoder, признак 'v22' удален по причина большого числа уникальных значений в нем - 18тыс."
   ]
  },
  {
   "cell_type": "markdown",
   "metadata": {},
   "source": [
    "###### 6) Из-за длительного времени обучения SVM пришлось сократить число призанков до 10 самых важных - SelectKBest"
   ]
  },
  {
   "cell_type": "markdown",
   "metadata": {},
   "source": [
    "###### 7) Тестировались три алгоритма  - LogReg, KNN,  SVM.\n",
    "- Хуже всего качество оказалось у LogReg, f1=0,69;\n",
    "- Лучшее качество показали SVM и неожиданно KNN f1=0,86, но у SVM намного больше времени уходит на обучение;\n",
    "- SVM показал неожиданно лучшее качество на линейном ядре;\n",
    "- В LogReg лучше оказалось NaN заменять на среднее значение, в KNN и SVM на ноль."
   ]
  },
  {
   "cell_type": "markdown",
   "metadata": {},
   "source": [
    "###### P.S.\n",
    " - Возможно было бы переменную 'v22' не удалять, а применить hash-кодирование, либо же наиболее редко встречающиеся значения объединить в одно;\n",
    " - Поменять функцию отбора лучших признаков в SelectKBest;\n",
    " - В процессе работы у LogReg были использованы так же и все признаки в выборке, но качество все равно не достигло SVM и KNN, f1=0,73"
   ]
  }
 ],
 "metadata": {
  "kernelspec": {
   "display_name": "Python 3",
   "language": "python",
   "name": "python3"
  },
  "language_info": {
   "codemirror_mode": {
    "name": "ipython",
    "version": 3
   },
   "file_extension": ".py",
   "mimetype": "text/x-python",
   "name": "python",
   "nbconvert_exporter": "python",
   "pygments_lexer": "ipython3",
   "version": "3.7.1"
  }
 },
 "nbformat": 4,
 "nbformat_minor": 2
}
